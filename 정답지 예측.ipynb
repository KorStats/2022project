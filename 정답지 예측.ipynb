{
 "cells": [
  {
   "cell_type": "markdown",
   "id": "f7bed2d3",
   "metadata": {},
   "source": [
    "with open(\"text/IMG_0476.txt\", \"r\") as file:\n",
    "    c=0\n",
    "    while True:\n",
    "        line=file.readline()\n",
    "        if len(line)>0:\n",
    "            if line[0] ==\"0\":\n",
    "                c=c+1\n",
    "        if not line:\n",
    "            break\n",
    "print(c)"
   ]
  },
  {
   "cell_type": "code",
   "execution_count": 49,
   "id": "807744bb",
   "metadata": {},
   "outputs": [
    {
     "name": "stdout",
     "output_type": "stream",
     "text": [
      "C:\\\n"
     ]
    }
   ],
   "source": [
    "%cd / \n",
    "from glob import glob\n",
    "result_txt_list=glob('text/*.txt')"
   ]
  },
  {
   "cell_type": "code",
   "execution_count": 50,
   "id": "e53f59bd",
   "metadata": {
    "scrolled": true
   },
   "outputs": [
    {
     "name": "stdout",
     "output_type": "stream",
     "text": [
      "text\\20220916_103619955.txt 80\n",
      "text\\20220916_105735553.txt 99\n",
      "text\\20220916_131619211.txt 79\n",
      "text\\20220916_171930418.txt 88\n",
      "text\\20220919_225825363.txt 42\n",
      "text\\20220919_231820473.txt 36\n",
      "text\\20220919_233039243.txt 99\n",
      "text\\20220919_234831665.txt 33\n",
      "text\\20220920_000250117.txt 84\n",
      "text\\20220920_002753658.txt 102\n",
      "text\\20220920_005456751.txt 97\n",
      "text\\20220920_011546170.txt 53\n",
      "text\\20220920_012637916.txt 15\n",
      "text\\20220920_013432931.txt 92\n",
      "text\\20220920_020037861.txt 132\n",
      "text\\20220920_021643168.txt 73\n",
      "text\\20220920_022746250.txt 97\n",
      "text\\20220920_023946456.txt 47\n",
      "text\\20220920_024901652.txt 74\n",
      "text\\20220920_030251681.txt 132\n",
      "text\\20220920_031429141.txt 55\n",
      "text\\20220920_032104073.txt 80\n",
      "text\\20220920_033000577.txt 127\n",
      "text\\20220920_033450213.txt 80\n",
      "text\\20220920_073454426.txt 75\n",
      "text\\20220920_074224412.txt 65\n",
      "text\\20220920_074656652.txt 68\n",
      "text\\20220920_075145090.txt 39\n",
      "text\\20220920_075403256.txt 48\n",
      "text\\20220920_075750816.txt 77\n",
      "text\\20220920_080121915.txt 61\n",
      "text\\20220920_080503125.txt 95\n",
      "text\\20220920_080906886.txt 51\n",
      "text\\20220920_081143066.txt 52\n",
      "text\\20220920_081543841.txt 93\n",
      "text\\20220920_081939890.txt 87\n",
      "text\\20220920_082757246.txt 94\n",
      "text\\20220920_092855121.txt 142\n",
      "text\\20220920_094836825.txt 57\n",
      "text\\20220920_104543939.txt 100\n",
      "text\\20220920_104943460.txt 51\n",
      "text\\20220920_105320182.txt 101\n",
      "text\\20220920_105808132.txt 60\n",
      "text\\20220920_122030103.txt 133\n",
      "text\\20220920_122541547.txt 110\n",
      "text\\20220920_123112955.txt 102\n",
      "text\\20220920_123701786.txt 79\n",
      "text\\20220920_124242520.txt 83\n",
      "text\\20220920_124821059.txt 133\n",
      "text\\20220920_125257091.txt 98\n",
      "text\\20220920_125824371.txt 129\n",
      "text\\20220920_130249240.txt 48\n",
      "text\\20220920_130531040.txt 103\n",
      "text\\20220920_131115435.txt 109\n",
      "text\\20220920_131821764.txt 104\n",
      "text\\20220920_132546408.txt 130\n",
      "text\\20220920_133140591.txt 125\n",
      "text\\KakaoTalk_20220917_213424899_12.txt 76\n",
      "text\\KakaoTalk_20220917_213424899_13.txt 44\n",
      "text\\KakaoTalk_20220917_213424899_14.txt 66\n",
      "text\\KakaoTalk_20220917_213424899_16.txt 37\n",
      "text\\KakaoTalk_20220917_213424899_18.txt 80\n",
      "text\\KakaoTalk_20220917_213424899_20.txt 67\n",
      "text\\KakaoTalk_20220917_213424899_22.txt 74\n",
      "text\\KakaoTalk_20220917_213424899_23.txt 52\n",
      "text\\KakaoTalk_20220917_213424899_24.txt 51\n",
      "text\\KakaoTalk_20220917_213424899_25.txt 103\n",
      "text\\KakaoTalk_20220917_213424899_26.txt 58\n",
      "text\\KakaoTalk_20220917_213424899_27.txt 91\n",
      "text\\KakaoTalk_20220917_213424899_28.txt 96\n",
      "text\\KakaoTalk_20220917_213424899_29.txt 111\n",
      "text\\KakaoTalk_20220917_213504173.txt 95\n",
      "text\\KakaoTalk_20220917_213504173_01.txt 107\n",
      "text\\KakaoTalk_20220917_213504173_02.txt 105\n",
      "text\\KakaoTalk_20220917_213504173_03.txt 98\n",
      "text\\KakaoTalk_20220917_213504173_04.txt 108\n",
      "text\\KakaoTalk_20220917_213504173_05.txt 72\n",
      "text\\KakaoTalk_20220917_213504173_06.txt 62\n",
      "text\\KakaoTalk_20220917_213504173_07.txt 80\n",
      "text\\KakaoTalk_20220917_213504173_08.txt 135\n"
     ]
    }
   ],
   "source": [
    "for tf in result_txt_list:\n",
    "    with open(tf, \"r\") as file:\n",
    "        print(tf,len(file.readlines()))"
   ]
  },
  {
   "cell_type": "code",
   "execution_count": null,
   "id": "afe722b5",
   "metadata": {},
   "outputs": [],
   "source": []
  }
 ],
 "metadata": {
  "kernelspec": {
   "display_name": "Python 3 (ipykernel)",
   "language": "python",
   "name": "python3"
  },
  "language_info": {
   "codemirror_mode": {
    "name": "ipython",
    "version": 3
   },
   "file_extension": ".py",
   "mimetype": "text/x-python",
   "name": "python",
   "nbconvert_exporter": "python",
   "pygments_lexer": "ipython3",
   "version": "3.9.12"
  }
 },
 "nbformat": 4,
 "nbformat_minor": 5
}
