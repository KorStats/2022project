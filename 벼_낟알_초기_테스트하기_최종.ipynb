{
  "nbformat": 4,
  "nbformat_minor": 0,
  "metadata": {
    "colab": {
      "provenance": [],
      "collapsed_sections": [],
      "machine_shape": "hm",
      "include_colab_link": true
    },
    "kernelspec": {
      "display_name": "Python 3",
      "name": "python3"
    },
    "language_info": {
      "name": "python"
    }
  },
  "cells": [
    {
      "cell_type": "markdown",
      "metadata": {
        "id": "view-in-github",
        "colab_type": "text"
      },
      "source": [
        "<a href=\"https://colab.research.google.com/github/KorStats/2022project/blob/main/%EB%B2%BC_%EB%82%9F%EC%95%8C_%EC%B4%88%EA%B8%B0_%ED%85%8C%EC%8A%A4%ED%8A%B8%ED%95%98%EA%B8%B0_%EC%B5%9C%EC%A2%85.ipynb\" target=\"_parent\"><img src=\"https://colab.research.google.com/assets/colab-badge.svg\" alt=\"Open In Colab\"/></a>"
      ]
    },
    {
      "cell_type": "markdown",
      "metadata": {
        "id": "U3wrPXQ_ORLb"
      },
      "source": [
        "# 구글드라이브에서 파일 읽어오기"
      ]
    },
    {
      "cell_type": "code",
      "metadata": {
        "colab": {
          "base_uri": "https://localhost:8080/"
        },
        "id": "dqJbzoq_OPxK",
        "outputId": "53dc7723-916c-42d3-f386-ba44d52394ba"
      },
      "source": [
        "from google.colab import drive\n",
        "drive.mount('/content/drive')"
      ],
      "execution_count": 9,
      "outputs": [
        {
          "output_type": "stream",
          "name": "stdout",
          "text": [
            "Mounted at /content/drive\n"
          ]
        }
      ]
    },
    {
      "cell_type": "code",
      "metadata": {
        "id": "wmtIZqMGOdVX",
        "colab": {
          "base_uri": "https://localhost:8080/"
        },
        "outputId": "49dd2d49-77ce-43be-d58d-3c2287588ff7"
      },
      "source": [
        "from google.colab import drive\n",
        "drive.mount('/content/gdrive')\n",
        "!ln -s /content/gdrive/My\\ Drive/ /mydrive\n",
        "!ls /mydrive"
      ],
      "execution_count": null,
      "outputs": [
        {
          "output_type": "stream",
          "name": "stdout",
          "text": [
            "Mounted at /content/gdrive\n",
            " 2022project  'Colab Notebooks'  'My Drive'\n"
          ]
        }
      ]
    },
    {
      "cell_type": "markdown",
      "metadata": {
        "id": "aFjncd4CnGZR"
      },
      "source": [
        "# YOLOV5 모델 시작"
      ]
    },
    {
      "cell_type": "code",
      "metadata": {
        "colab": {
          "base_uri": "https://localhost:8080/"
        },
        "id": "rNDjMU0GheJj",
        "outputId": "81386b76-f562-4992-b3c6-d2cc7d277c2c"
      },
      "source": [
        "%cd /content\n",
        "!git clone https://github.com/ultralytics/yolov5.git"
      ],
      "execution_count": null,
      "outputs": [
        {
          "output_type": "stream",
          "name": "stdout",
          "text": [
            "/content\n",
            "Cloning into 'yolov5'...\n",
            "remote: Enumerating objects: 12844, done.\u001b[K\n",
            "remote: Total 12844 (delta 0), reused 0 (delta 0), pack-reused 12844\u001b[K\n",
            "Receiving objects: 100% (12844/12844), 13.02 MiB | 18.47 MiB/s, done.\n",
            "Resolving deltas: 100% (8830/8830), done.\n"
          ]
        }
      ]
    },
    {
      "cell_type": "code",
      "metadata": {
        "id": "MSO9wwGbkrJS",
        "colab": {
          "base_uri": "https://localhost:8080/"
        },
        "outputId": "40525ce3-c152-442d-d34a-d19b07d8e915"
      },
      "source": [
        "%cd /content/yolov5/\n",
        "!pip install -r requirements.txt"
      ],
      "execution_count": 10,
      "outputs": [
        {
          "output_type": "stream",
          "name": "stdout",
          "text": [
            "/content/yolov5\n",
            "Looking in indexes: https://pypi.org/simple, https://us-python.pkg.dev/colab-wheels/public/simple/\n",
            "Requirement already satisfied: matplotlib>=3.2.2 in /usr/local/lib/python3.7/dist-packages (from -r requirements.txt (line 5)) (3.2.2)\n",
            "Requirement already satisfied: numpy>=1.18.5 in /usr/local/lib/python3.7/dist-packages (from -r requirements.txt (line 6)) (1.21.6)\n",
            "Requirement already satisfied: opencv-python>=4.1.1 in /usr/local/lib/python3.7/dist-packages (from -r requirements.txt (line 7)) (4.6.0.66)\n",
            "Requirement already satisfied: Pillow>=7.1.2 in /usr/local/lib/python3.7/dist-packages (from -r requirements.txt (line 8)) (7.1.2)\n",
            "Requirement already satisfied: PyYAML>=5.3.1 in /usr/local/lib/python3.7/dist-packages (from -r requirements.txt (line 9)) (6.0)\n",
            "Requirement already satisfied: requests>=2.23.0 in /usr/local/lib/python3.7/dist-packages (from -r requirements.txt (line 10)) (2.23.0)\n",
            "Requirement already satisfied: scipy>=1.4.1 in /usr/local/lib/python3.7/dist-packages (from -r requirements.txt (line 11)) (1.7.3)\n",
            "Requirement already satisfied: torch>=1.7.0 in /usr/local/lib/python3.7/dist-packages (from -r requirements.txt (line 12)) (1.12.1+cu113)\n",
            "Requirement already satisfied: torchvision>=0.8.1 in /usr/local/lib/python3.7/dist-packages (from -r requirements.txt (line 13)) (0.13.1+cu113)\n",
            "Requirement already satisfied: tqdm>=4.64.0 in /usr/local/lib/python3.7/dist-packages (from -r requirements.txt (line 14)) (4.64.1)\n",
            "Requirement already satisfied: tensorboard>=2.4.1 in /usr/local/lib/python3.7/dist-packages (from -r requirements.txt (line 18)) (2.8.0)\n",
            "Requirement already satisfied: pandas>=1.1.4 in /usr/local/lib/python3.7/dist-packages (from -r requirements.txt (line 23)) (1.3.5)\n",
            "Requirement already satisfied: seaborn>=0.11.0 in /usr/local/lib/python3.7/dist-packages (from -r requirements.txt (line 24)) (0.11.2)\n",
            "Requirement already satisfied: ipython in /usr/local/lib/python3.7/dist-packages (from -r requirements.txt (line 41)) (7.9.0)\n",
            "Requirement already satisfied: psutil in /usr/local/lib/python3.7/dist-packages (from -r requirements.txt (line 42)) (5.4.8)\n",
            "Collecting thop>=0.1.1\n",
            "  Downloading thop-0.1.1.post2209072238-py3-none-any.whl (15 kB)\n",
            "Requirement already satisfied: cycler>=0.10 in /usr/local/lib/python3.7/dist-packages (from matplotlib>=3.2.2->-r requirements.txt (line 5)) (0.11.0)\n",
            "Requirement already satisfied: pyparsing!=2.0.4,!=2.1.2,!=2.1.6,>=2.0.1 in /usr/local/lib/python3.7/dist-packages (from matplotlib>=3.2.2->-r requirements.txt (line 5)) (3.0.9)\n",
            "Requirement already satisfied: python-dateutil>=2.1 in /usr/local/lib/python3.7/dist-packages (from matplotlib>=3.2.2->-r requirements.txt (line 5)) (2.8.2)\n",
            "Requirement already satisfied: kiwisolver>=1.0.1 in /usr/local/lib/python3.7/dist-packages (from matplotlib>=3.2.2->-r requirements.txt (line 5)) (1.4.4)\n",
            "Requirement already satisfied: urllib3!=1.25.0,!=1.25.1,<1.26,>=1.21.1 in /usr/local/lib/python3.7/dist-packages (from requests>=2.23.0->-r requirements.txt (line 10)) (1.24.3)\n",
            "Requirement already satisfied: chardet<4,>=3.0.2 in /usr/local/lib/python3.7/dist-packages (from requests>=2.23.0->-r requirements.txt (line 10)) (3.0.4)\n",
            "Requirement already satisfied: certifi>=2017.4.17 in /usr/local/lib/python3.7/dist-packages (from requests>=2.23.0->-r requirements.txt (line 10)) (2022.6.15)\n",
            "Requirement already satisfied: idna<3,>=2.5 in /usr/local/lib/python3.7/dist-packages (from requests>=2.23.0->-r requirements.txt (line 10)) (2.10)\n",
            "Requirement already satisfied: typing-extensions in /usr/local/lib/python3.7/dist-packages (from torch>=1.7.0->-r requirements.txt (line 12)) (4.1.1)\n",
            "Requirement already satisfied: tensorboard-plugin-wit>=1.6.0 in /usr/local/lib/python3.7/dist-packages (from tensorboard>=2.4.1->-r requirements.txt (line 18)) (1.8.1)\n",
            "Requirement already satisfied: werkzeug>=0.11.15 in /usr/local/lib/python3.7/dist-packages (from tensorboard>=2.4.1->-r requirements.txt (line 18)) (1.0.1)\n",
            "Requirement already satisfied: google-auth-oauthlib<0.5,>=0.4.1 in /usr/local/lib/python3.7/dist-packages (from tensorboard>=2.4.1->-r requirements.txt (line 18)) (0.4.6)\n",
            "Requirement already satisfied: protobuf>=3.6.0 in /usr/local/lib/python3.7/dist-packages (from tensorboard>=2.4.1->-r requirements.txt (line 18)) (3.17.3)\n",
            "Requirement already satisfied: setuptools>=41.0.0 in /usr/local/lib/python3.7/dist-packages (from tensorboard>=2.4.1->-r requirements.txt (line 18)) (57.4.0)\n",
            "Requirement already satisfied: tensorboard-data-server<0.7.0,>=0.6.0 in /usr/local/lib/python3.7/dist-packages (from tensorboard>=2.4.1->-r requirements.txt (line 18)) (0.6.1)\n",
            "Requirement already satisfied: wheel>=0.26 in /usr/local/lib/python3.7/dist-packages (from tensorboard>=2.4.1->-r requirements.txt (line 18)) (0.37.1)\n",
            "Requirement already satisfied: absl-py>=0.4 in /usr/local/lib/python3.7/dist-packages (from tensorboard>=2.4.1->-r requirements.txt (line 18)) (1.2.0)\n",
            "Requirement already satisfied: grpcio>=1.24.3 in /usr/local/lib/python3.7/dist-packages (from tensorboard>=2.4.1->-r requirements.txt (line 18)) (1.48.1)\n",
            "Requirement already satisfied: markdown>=2.6.8 in /usr/local/lib/python3.7/dist-packages (from tensorboard>=2.4.1->-r requirements.txt (line 18)) (3.4.1)\n",
            "Requirement already satisfied: google-auth<3,>=1.6.3 in /usr/local/lib/python3.7/dist-packages (from tensorboard>=2.4.1->-r requirements.txt (line 18)) (1.35.0)\n",
            "Requirement already satisfied: pytz>=2017.3 in /usr/local/lib/python3.7/dist-packages (from pandas>=1.1.4->-r requirements.txt (line 23)) (2022.2.1)\n",
            "Requirement already satisfied: rsa<5,>=3.1.4 in /usr/local/lib/python3.7/dist-packages (from google-auth<3,>=1.6.3->tensorboard>=2.4.1->-r requirements.txt (line 18)) (4.9)\n",
            "Requirement already satisfied: cachetools<5.0,>=2.0.0 in /usr/local/lib/python3.7/dist-packages (from google-auth<3,>=1.6.3->tensorboard>=2.4.1->-r requirements.txt (line 18)) (4.2.4)\n",
            "Requirement already satisfied: six>=1.9.0 in /usr/local/lib/python3.7/dist-packages (from google-auth<3,>=1.6.3->tensorboard>=2.4.1->-r requirements.txt (line 18)) (1.15.0)\n",
            "Requirement already satisfied: pyasn1-modules>=0.2.1 in /usr/local/lib/python3.7/dist-packages (from google-auth<3,>=1.6.3->tensorboard>=2.4.1->-r requirements.txt (line 18)) (0.2.8)\n",
            "Requirement already satisfied: requests-oauthlib>=0.7.0 in /usr/local/lib/python3.7/dist-packages (from google-auth-oauthlib<0.5,>=0.4.1->tensorboard>=2.4.1->-r requirements.txt (line 18)) (1.3.1)\n",
            "Requirement already satisfied: importlib-metadata>=4.4 in /usr/local/lib/python3.7/dist-packages (from markdown>=2.6.8->tensorboard>=2.4.1->-r requirements.txt (line 18)) (4.12.0)\n",
            "Requirement already satisfied: zipp>=0.5 in /usr/local/lib/python3.7/dist-packages (from importlib-metadata>=4.4->markdown>=2.6.8->tensorboard>=2.4.1->-r requirements.txt (line 18)) (3.8.1)\n",
            "Requirement already satisfied: pyasn1<0.5.0,>=0.4.6 in /usr/local/lib/python3.7/dist-packages (from pyasn1-modules>=0.2.1->google-auth<3,>=1.6.3->tensorboard>=2.4.1->-r requirements.txt (line 18)) (0.4.8)\n",
            "Requirement already satisfied: oauthlib>=3.0.0 in /usr/local/lib/python3.7/dist-packages (from requests-oauthlib>=0.7.0->google-auth-oauthlib<0.5,>=0.4.1->tensorboard>=2.4.1->-r requirements.txt (line 18)) (3.2.0)\n",
            "Requirement already satisfied: decorator in /usr/local/lib/python3.7/dist-packages (from ipython->-r requirements.txt (line 41)) (4.4.2)\n",
            "Collecting jedi>=0.10\n",
            "  Downloading jedi-0.18.1-py2.py3-none-any.whl (1.6 MB)\n",
            "\u001b[K     |████████████████████████████████| 1.6 MB 14.2 MB/s \n",
            "\u001b[?25hRequirement already satisfied: pygments in /usr/local/lib/python3.7/dist-packages (from ipython->-r requirements.txt (line 41)) (2.6.1)\n",
            "Requirement already satisfied: backcall in /usr/local/lib/python3.7/dist-packages (from ipython->-r requirements.txt (line 41)) (0.2.0)\n",
            "Requirement already satisfied: pickleshare in /usr/local/lib/python3.7/dist-packages (from ipython->-r requirements.txt (line 41)) (0.7.5)\n",
            "Requirement already satisfied: prompt-toolkit<2.1.0,>=2.0.0 in /usr/local/lib/python3.7/dist-packages (from ipython->-r requirements.txt (line 41)) (2.0.10)\n",
            "Requirement already satisfied: traitlets>=4.2 in /usr/local/lib/python3.7/dist-packages (from ipython->-r requirements.txt (line 41)) (5.1.1)\n",
            "Requirement already satisfied: pexpect in /usr/local/lib/python3.7/dist-packages (from ipython->-r requirements.txt (line 41)) (4.8.0)\n",
            "Requirement already satisfied: parso<0.9.0,>=0.8.0 in /usr/local/lib/python3.7/dist-packages (from jedi>=0.10->ipython->-r requirements.txt (line 41)) (0.8.3)\n",
            "Requirement already satisfied: wcwidth in /usr/local/lib/python3.7/dist-packages (from prompt-toolkit<2.1.0,>=2.0.0->ipython->-r requirements.txt (line 41)) (0.2.5)\n",
            "Requirement already satisfied: ptyprocess>=0.5 in /usr/local/lib/python3.7/dist-packages (from pexpect->ipython->-r requirements.txt (line 41)) (0.7.0)\n",
            "Installing collected packages: jedi, thop\n",
            "Successfully installed jedi-0.18.1 thop-0.1.1.post2209072238\n"
          ]
        }
      ]
    },
    {
      "cell_type": "markdown",
      "metadata": {
        "id": "W0xnW7tCRdSc"
      },
      "source": [
        "# test 이미지 업로드"
      ]
    },
    {
      "cell_type": "code",
      "source": [
        "%cd / \n",
        "from glob import glob"
      ],
      "metadata": {
        "colab": {
          "base_uri": "https://localhost:8080/"
        },
        "id": "qotUst-Ft9Ki",
        "outputId": "d02c67db-126a-42cb-ca07-e7dd5730bc56"
      },
      "execution_count": 11,
      "outputs": [
        {
          "output_type": "stream",
          "name": "stdout",
          "text": [
            "/\n"
          ]
        }
      ]
    },
    {
      "cell_type": "code",
      "source": [
        "!python /content/yolov5/detect.py --weights /content/drive/MyDrive/2022project/best.pt  --source /content/drive/MyDrive/2022project/year01/image --save-txt --save-conf "
      ],
      "metadata": {
        "colab": {
          "base_uri": "https://localhost:8080/"
        },
        "id": "pNW4GzVQ86tM",
        "outputId": "006f9365-bab5-4858-dece-f6a01efe7570"
      },
      "execution_count": 14,
      "outputs": [
        {
          "output_type": "stream",
          "name": "stdout",
          "text": [
            "\u001b[34m\u001b[1mdetect: \u001b[0mweights=['/content/drive/MyDrive/2022project/best.pt'], source=/content/drive/MyDrive/2022project/year01/image, data=content/yolov5/data/coco128.yaml, imgsz=[640, 640], conf_thres=0.25, iou_thres=0.45, max_det=1000, device=, view_img=False, save_txt=True, save_conf=True, save_crop=False, nosave=False, classes=None, agnostic_nms=False, augment=False, visualize=False, update=False, project=content/yolov5/runs/detect, name=exp, exist_ok=False, line_thickness=3, hide_labels=False, hide_conf=False, half=False, dnn=False, vid_stride=1\n",
            "YOLOv5 🚀 v6.2-175-g1460e57 Python-3.7.14 torch-1.12.1+cu113 CPU\n",
            "\n",
            "Fusing layers... \n",
            "YOLOv5x summary: 444 layers, 86173414 parameters, 0 gradients\n",
            "image 1/80 /content/drive/MyDrive/2022project/year01/image/IMG_0476.JPG: 640x480 206 crops, 1228.1ms\n",
            "image 2/80 /content/drive/MyDrive/2022project/year01/image/IMG_0479.JPG: 480x640 200 crops, 1262.4ms\n",
            "image 3/80 /content/drive/MyDrive/2022project/year01/image/IMG_0480.JPG: 480x640 93 crops, 1167.3ms\n",
            "image 4/80 /content/drive/MyDrive/2022project/year01/image/IMG_0484.JPG: 480x640 104 crops, 1150.5ms\n",
            "image 5/80 /content/drive/MyDrive/2022project/year01/image/IMG_0504.JPG: 480x640 115 crops, 1214.2ms\n",
            "image 6/80 /content/drive/MyDrive/2022project/year01/image/IMG_0505.JPG: 480x640 111 crops, 1212.7ms\n",
            "image 7/80 /content/drive/MyDrive/2022project/year01/image/IMG_0510.JPG: 480x640 125 crops, 1160.3ms\n",
            "image 8/80 /content/drive/MyDrive/2022project/year01/image/IMG_0511.JPG: 480x640 115 crops, 1201.0ms\n",
            "image 9/80 /content/drive/MyDrive/2022project/year01/image/IMG_0519.JPG: 480x640 192 crops, 1127.7ms\n",
            "image 10/80 /content/drive/MyDrive/2022project/year01/image/IMG_0520.JPG: 480x640 157 crops, 1191.0ms\n",
            "image 11/80 /content/drive/MyDrive/2022project/year01/image/IMG_0525.JPG: 480x640 114 crops, 1104.8ms\n",
            "image 12/80 /content/drive/MyDrive/2022project/year01/image/IMG_0526.JPG: 480x640 87 crops, 1167.2ms\n",
            "image 13/80 /content/drive/MyDrive/2022project/year01/image/IMG_0530.JPG: 480x640 75 crops, 1153.5ms\n",
            "image 14/80 /content/drive/MyDrive/2022project/year01/image/IMG_0536.JPG: 480x640 68 crops, 1184.2ms\n",
            "image 15/80 /content/drive/MyDrive/2022project/year01/image/IMG_0540.JPG: 480x640 148 crops, 1101.9ms\n",
            "image 16/80 /content/drive/MyDrive/2022project/year01/image/IMG_0541.JPG: 480x640 39 crops, 1194.4ms\n",
            "image 17/80 /content/drive/MyDrive/2022project/year01/image/IMG_0549.JPG: 480x640 179 crops, 1134.6ms\n",
            "image 18/80 /content/drive/MyDrive/2022project/year01/image/IMG_0551.JPG: 480x640 152 crops, 1179.8ms\n",
            "image 19/80 /content/drive/MyDrive/2022project/year01/image/IMG_0556.JPG: 480x640 242 crops, 1111.1ms\n",
            "image 20/80 /content/drive/MyDrive/2022project/year01/image/IMG_0560.JPG: 480x640 105 crops, 1205.2ms\n",
            "image 21/80 /content/drive/MyDrive/2022project/year01/image/IMG_0565.JPG: 480x640 231 crops, 1167.9ms\n",
            "image 22/80 /content/drive/MyDrive/2022project/year01/image/IMG_0566.JPG: 480x640 183 crops, 1170.7ms\n",
            "image 23/80 /content/drive/MyDrive/2022project/year01/image/IMG_0570.JPG: 480x640 218 crops, 1301.4ms\n",
            "image 24/80 /content/drive/MyDrive/2022project/year01/image/IMG_0576.JPG: 480x640 252 crops, 1319.6ms\n",
            "image 25/80 /content/drive/MyDrive/2022project/year01/image/IMG_0577.JPG: 480x640 255 crops, 1349.6ms\n",
            "image 26/80 /content/drive/MyDrive/2022project/year01/image/IMG_0578.JPG: 480x640 194 crops, 1187.6ms\n",
            "image 27/80 /content/drive/MyDrive/2022project/year01/image/IMG_0585.JPG: 480x640 290 crops, 1270.1ms\n",
            "image 28/80 /content/drive/MyDrive/2022project/year01/image/IMG_0586.JPG: 480x640 312 crops, 1301.3ms\n",
            "image 29/80 /content/drive/MyDrive/2022project/year01/image/IMG_0589.JPG: 480x640 87 crops, 1297.0ms\n",
            "image 30/80 /content/drive/MyDrive/2022project/year01/image/IMG_0598.JPG: 480x640 263 crops, 1332.3ms\n",
            "image 31/80 /content/drive/MyDrive/2022project/year01/image/IMG_0605.JPG: 480x640 255 crops, 1320.6ms\n",
            "image 32/80 /content/drive/MyDrive/2022project/year01/image/IMG_0610.JPG: 480x640 240 crops, 1169.5ms\n",
            "image 33/80 /content/drive/MyDrive/2022project/year01/image/IMG_0611.JPG: 480x640 183 crops, 1351.1ms\n",
            "image 34/80 /content/drive/MyDrive/2022project/year01/image/IMG_0614.JPG: 480x640 270 crops, 1180.1ms\n",
            "image 35/80 /content/drive/MyDrive/2022project/year01/image/IMG_0620.JPG: 480x640 155 crops, 1322.6ms\n",
            "image 36/80 /content/drive/MyDrive/2022project/year01/image/IMG_0627.JPG: 480x640 353 crops, 1262.7ms\n",
            "image 37/80 /content/drive/MyDrive/2022project/year01/image/IMG_0628.JPG: 480x640 220 crops, 1161.4ms\n",
            "image 38/80 /content/drive/MyDrive/2022project/year01/image/IMG_0633.JPG: 480x640 341 crops, 1183.5ms\n",
            "image 39/80 /content/drive/MyDrive/2022project/year01/image/IMG_0660.JPG: 480x640 118 crops, 1322.6ms\n",
            "image 40/80 /content/drive/MyDrive/2022project/year01/image/IMG_0661.JPG: 480x640 281 crops, 1157.3ms\n",
            "image 41/80 /content/drive/MyDrive/2022project/year01/image/IMG_0662.JPG: 480x640 97 crops, 1309.8ms\n",
            "image 42/80 /content/drive/MyDrive/2022project/year01/image/IMG_0684.JPG: 480x640 104 crops, 1218.5ms\n",
            "image 43/80 /content/drive/MyDrive/2022project/year01/image/IMG_0695.JPG: 480x640 255 crops, 1200.3ms\n",
            "image 44/80 /content/drive/MyDrive/2022project/year01/image/KakaoTalk_20220917_213325849.jpg: 640x384 285 crops, 1077.5ms\n",
            "image 45/80 /content/drive/MyDrive/2022project/year01/image/KakaoTalk_20220917_213325849_01.jpg: 640x384 279 crops, 1012.1ms\n",
            "image 46/80 /content/drive/MyDrive/2022project/year01/image/KakaoTalk_20220917_213325849_02.jpg: 640x384 235 crops, 1047.7ms\n",
            "image 47/80 /content/drive/MyDrive/2022project/year01/image/KakaoTalk_20220917_213325849_03.jpg: 640x384 164 crops, 1123.2ms\n",
            "image 48/80 /content/drive/MyDrive/2022project/year01/image/KakaoTalk_20220917_213325849_04.jpg: 640x384 204 crops, 1067.2ms\n",
            "image 49/80 /content/drive/MyDrive/2022project/year01/image/KakaoTalk_20220917_213325849_05.jpg: 640x384 339 crops, 993.3ms\n",
            "image 50/80 /content/drive/MyDrive/2022project/year01/image/KakaoTalk_20220917_213325849_06.jpg: 640x384 155 crops, 1054.4ms\n",
            "image 51/80 /content/drive/MyDrive/2022project/year01/image/KakaoTalk_20220917_213325849_07.jpg: 640x384 312 crops, 1026.9ms\n",
            "image 52/80 /content/drive/MyDrive/2022project/year01/image/KakaoTalk_20220917_213325849_08.jpg: 640x384 360 crops, 998.1ms\n",
            "image 53/80 /content/drive/MyDrive/2022project/year01/image/KakaoTalk_20220917_213325849_09.jpg: 640x384 275 crops, 1061.1ms\n",
            "image 54/80 /content/drive/MyDrive/2022project/year01/image/KakaoTalk_20220917_213325849_10.jpg: 640x384 179 crops, 1041.2ms\n",
            "image 55/80 /content/drive/MyDrive/2022project/year01/image/KakaoTalk_20220917_213325849_14.jpg: 640x384 193 crops, 994.6ms\n",
            "image 56/80 /content/drive/MyDrive/2022project/year01/image/KakaoTalk_20220917_213325849_15.jpg: 640x384 278 crops, 981.4ms\n",
            "image 57/80 /content/drive/MyDrive/2022project/year01/image/KakaoTalk_20220917_213325849_16.jpg: 640x384 257 crops, 1068.2ms\n",
            "image 58/80 /content/drive/MyDrive/2022project/year01/image/KakaoTalk_20220917_213325849_17.jpg: 640x384 224 crops, 1066.6ms\n",
            "image 59/80 /content/drive/MyDrive/2022project/year01/image/KakaoTalk_20220917_213325849_18.jpg: 640x384 342 crops, 987.2ms\n",
            "image 60/80 /content/drive/MyDrive/2022project/year01/image/KakaoTalk_20220917_213325849_19.jpg: 640x384 177 crops, 965.4ms\n",
            "image 61/80 /content/drive/MyDrive/2022project/year01/image/KakaoTalk_20220917_213325849_20.jpg: 640x384 181 crops, 990.6ms\n",
            "image 62/80 /content/drive/MyDrive/2022project/year01/image/KakaoTalk_20220917_213325849_21.jpg: 640x384 321 crops, 1193.7ms\n",
            "image 63/80 /content/drive/MyDrive/2022project/year01/image/KakaoTalk_20220917_213325849_22.jpg: 640x384 89 crops, 1041.7ms\n",
            "image 64/80 /content/drive/MyDrive/2022project/year01/image/KakaoTalk_20220917_213325849_23.jpg: 640x384 110 crops, 1031.3ms\n",
            "image 65/80 /content/drive/MyDrive/2022project/year01/image/KakaoTalk_20220917_213325849_24.jpg: 640x384 91 crops, 1016.3ms\n",
            "image 66/80 /content/drive/MyDrive/2022project/year01/image/KakaoTalk_20220917_213325849_25.jpg: 640x384 100 crops, 1038.9ms\n",
            "image 67/80 /content/drive/MyDrive/2022project/year01/image/KakaoTalk_20220917_213325849_26.jpg: 640x384 49 crops, 971.1ms\n",
            "image 68/80 /content/drive/MyDrive/2022project/year01/image/KakaoTalk_20220917_213325849_27.jpg: 640x384 57 crops, 1012.9ms\n",
            "image 69/80 /content/drive/MyDrive/2022project/year01/image/KakaoTalk_20220917_213325849_28.jpg: 640x384 53 crops, 1018.5ms\n",
            "image 70/80 /content/drive/MyDrive/2022project/year01/image/KakaoTalk_20220917_213325849_29.jpg: 640x384 59 crops, 1009.0ms\n",
            "image 71/80 /content/drive/MyDrive/2022project/year01/image/KakaoTalk_20220917_213424899.jpg: 640x384 45 crops, 1150.5ms\n",
            "image 72/80 /content/drive/MyDrive/2022project/year01/image/KakaoTalk_20220917_213424899_01.jpg: 640x384 42 crops, 1045.9ms\n",
            "image 73/80 /content/drive/MyDrive/2022project/year01/image/KakaoTalk_20220917_213424899_02.jpg: 640x384 38 crops, 994.1ms\n",
            "image 74/80 /content/drive/MyDrive/2022project/year01/image/KakaoTalk_20220917_213424899_03.jpg: 640x384 59 crops, 958.8ms\n",
            "image 75/80 /content/drive/MyDrive/2022project/year01/image/KakaoTalk_20220917_213424899_04.jpg: 640x384 37 crops, 971.6ms\n",
            "image 76/80 /content/drive/MyDrive/2022project/year01/image/KakaoTalk_20220917_213424899_05.jpg: 640x384 59 crops, 1081.1ms\n",
            "image 77/80 /content/drive/MyDrive/2022project/year01/image/KakaoTalk_20220917_213424899_06.jpg: 640x384 57 crops, 1027.6ms\n",
            "image 78/80 /content/drive/MyDrive/2022project/year01/image/KakaoTalk_20220917_213424899_07.jpg: 640x384 29 crops, 1022.0ms\n",
            "image 79/80 /content/drive/MyDrive/2022project/year01/image/KakaoTalk_20220917_213424899_09.jpg: 640x384 92 crops, 1020.0ms\n",
            "image 80/80 /content/drive/MyDrive/2022project/year01/image/KakaoTalk_20220917_213424899_10.jpg: 640x384 104 crops, 1070.4ms\n",
            "Speed: 1.0ms pre-process, 1131.8ms inference, 1.4ms NMS per image at shape (1, 3, 640, 640)\n",
            "Results saved to \u001b[1mcontent/yolov5/runs/detect/exp\u001b[0m\n",
            "80 labels saved to content/yolov5/runs/detect/exp/labels\n"
          ]
        }
      ]
    },
    {
      "cell_type": "code",
      "source": [
        "result_txt_list=glob('/content/yolov5/runs/detect/exp/labels/*.txt')\n",
        "print(len(result_txt_list))"
      ],
      "metadata": {
        "colab": {
          "base_uri": "https://localhost:8080/"
        },
        "id": "NUOWS9dwAbrE",
        "outputId": "2cc2915c-fc9b-445f-c1c6-7efe6b0339c7"
      },
      "execution_count": 15,
      "outputs": [
        {
          "output_type": "stream",
          "name": "stdout",
          "text": [
            "80\n"
          ]
        }
      ]
    },
    {
      "cell_type": "code",
      "source": [
        "!zip -r /content/result.zip /content/yolov5/runs/detect/exp/"
      ],
      "metadata": {
        "colab": {
          "base_uri": "https://localhost:8080/"
        },
        "id": "3_IiqXR-B_Qz",
        "outputId": "93b816de-dc61-4ca2-d873-3d8582572352"
      },
      "execution_count": 16,
      "outputs": [
        {
          "output_type": "stream",
          "name": "stdout",
          "text": [
            "  adding: content/yolov5/runs/detect/exp/ (stored 0%)\n",
            "  adding: content/yolov5/runs/detect/exp/KakaoTalk_20220917_213325849_23.jpg (deflated 0%)\n",
            "  adding: content/yolov5/runs/detect/exp/IMG_0695.JPG (deflated 0%)\n",
            "  adding: content/yolov5/runs/detect/exp/IMG_0627.JPG (deflated 0%)\n",
            "  adding: content/yolov5/runs/detect/exp/KakaoTalk_20220917_213325849_06.jpg (deflated 0%)\n",
            "  adding: content/yolov5/runs/detect/exp/IMG_0577.JPG (deflated 0%)\n",
            "  adding: content/yolov5/runs/detect/exp/IMG_0530.JPG (deflated 0%)\n",
            "  adding: content/yolov5/runs/detect/exp/IMG_0605.JPG (deflated 0%)\n",
            "  adding: content/yolov5/runs/detect/exp/KakaoTalk_20220917_213424899_07.jpg (deflated 0%)\n",
            "  adding: content/yolov5/runs/detect/exp/IMG_0628.JPG (deflated 0%)\n",
            "  adding: content/yolov5/runs/detect/exp/IMG_0565.JPG (deflated 0%)\n",
            "  adding: content/yolov5/runs/detect/exp/KakaoTalk_20220917_213424899_10.jpg (deflated 1%)\n",
            "  adding: content/yolov5/runs/detect/exp/IMG_0633.JPG (deflated 0%)\n",
            "  adding: content/yolov5/runs/detect/exp/KakaoTalk_20220917_213325849_26.jpg (deflated 0%)\n",
            "  adding: content/yolov5/runs/detect/exp/IMG_0540.JPG (deflated 0%)\n",
            "  adding: content/yolov5/runs/detect/exp/IMG_0585.JPG (deflated 0%)\n",
            "  adding: content/yolov5/runs/detect/exp/labels/ (stored 0%)\n",
            "  adding: content/yolov5/runs/detect/exp/labels/KakaoTalk_20220917_213424899_03.txt (deflated 67%)\n",
            "  adding: content/yolov5/runs/detect/exp/labels/KakaoTalk_20220917_213325849_17.txt (deflated 70%)\n",
            "  adding: content/yolov5/runs/detect/exp/labels/IMG_0566.txt (deflated 66%)\n",
            "  adding: content/yolov5/runs/detect/exp/labels/IMG_0586.txt (deflated 67%)\n",
            "  adding: content/yolov5/runs/detect/exp/labels/IMG_0511.txt (deflated 64%)\n",
            "  adding: content/yolov5/runs/detect/exp/labels/IMG_0549.txt (deflated 66%)\n",
            "  adding: content/yolov5/runs/detect/exp/labels/IMG_0510.txt (deflated 64%)\n",
            "  adding: content/yolov5/runs/detect/exp/labels/IMG_0476.txt (deflated 66%)\n",
            "  adding: content/yolov5/runs/detect/exp/labels/IMG_0578.txt (deflated 67%)\n",
            "  adding: content/yolov5/runs/detect/exp/labels/KakaoTalk_20220917_213325849_19.txt (deflated 70%)\n",
            "  adding: content/yolov5/runs/detect/exp/labels/KakaoTalk_20220917_213325849_08.txt (deflated 71%)\n",
            "  adding: content/yolov5/runs/detect/exp/labels/KakaoTalk_20220917_213424899_07.txt (deflated 63%)\n",
            "  adding: content/yolov5/runs/detect/exp/labels/KakaoTalk_20220917_213325849_25.txt (deflated 66%)\n",
            "  adding: content/yolov5/runs/detect/exp/labels/KakaoTalk_20220917_213325849_14.txt (deflated 70%)\n",
            "  adding: content/yolov5/runs/detect/exp/labels/IMG_0627.txt (deflated 68%)\n",
            "  adding: content/yolov5/runs/detect/exp/labels/IMG_0661.txt (deflated 68%)\n",
            "  adding: content/yolov5/runs/detect/exp/labels/KakaoTalk_20220917_213325849.txt (deflated 70%)\n",
            "  adding: content/yolov5/runs/detect/exp/labels/KakaoTalk_20220917_213325849_02.txt (deflated 71%)\n",
            "  adding: content/yolov5/runs/detect/exp/labels/IMG_0695.txt (deflated 67%)\n",
            "  adding: content/yolov5/runs/detect/exp/labels/KakaoTalk_20220917_213325849_26.txt (deflated 64%)\n",
            "  adding: content/yolov5/runs/detect/exp/labels/KakaoTalk_20220917_213424899_02.txt (deflated 63%)\n",
            "  adding: content/yolov5/runs/detect/exp/labels/IMG_0526.txt (deflated 63%)\n",
            "  adding: content/yolov5/runs/detect/exp/labels/KakaoTalk_20220917_213325849_29.txt (deflated 64%)\n",
            "  adding: content/yolov5/runs/detect/exp/labels/IMG_0598.txt (deflated 67%)\n",
            "  adding: content/yolov5/runs/detect/exp/labels/KakaoTalk_20220917_213325849_22.txt (deflated 66%)\n",
            "  adding: content/yolov5/runs/detect/exp/labels/IMG_0551.txt (deflated 65%)\n",
            "  adding: content/yolov5/runs/detect/exp/labels/KakaoTalk_20220917_213325849_07.txt (deflated 71%)\n",
            "  adding: content/yolov5/runs/detect/exp/labels/KakaoTalk_20220917_213424899_05.txt (deflated 65%)\n",
            "  adding: content/yolov5/runs/detect/exp/labels/IMG_0660.txt (deflated 66%)\n",
            "  adding: content/yolov5/runs/detect/exp/labels/IMG_0479.txt (deflated 65%)\n",
            "  adding: content/yolov5/runs/detect/exp/labels/KakaoTalk_20220917_213424899_09.txt (deflated 67%)\n",
            "  adding: content/yolov5/runs/detect/exp/labels/KakaoTalk_20220917_213325849_04.txt (deflated 70%)\n",
            "  adding: content/yolov5/runs/detect/exp/labels/IMG_0589.txt (deflated 65%)\n",
            "  adding: content/yolov5/runs/detect/exp/labels/KakaoTalk_20220917_213325849_27.txt (deflated 64%)\n",
            "  adding: content/yolov5/runs/detect/exp/labels/IMG_0520.txt (deflated 66%)\n",
            "  adding: content/yolov5/runs/detect/exp/labels/IMG_0620.txt (deflated 66%)\n",
            "  adding: content/yolov5/runs/detect/exp/labels/IMG_0504.txt (deflated 65%)\n",
            "  adding: content/yolov5/runs/detect/exp/labels/IMG_0560.txt (deflated 64%)\n",
            "  adding: content/yolov5/runs/detect/exp/labels/IMG_0519.txt (deflated 66%)\n",
            "  adding: content/yolov5/runs/detect/exp/labels/IMG_0556.txt (deflated 66%)\n",
            "  adding: content/yolov5/runs/detect/exp/labels/IMG_0585.txt (deflated 67%)\n",
            "  adding: content/yolov5/runs/detect/exp/labels/KakaoTalk_20220917_213424899_10.txt (deflated 67%)\n",
            "  adding: content/yolov5/runs/detect/exp/labels/IMG_0662.txt (deflated 65%)\n",
            "  adding: content/yolov5/runs/detect/exp/labels/KakaoTalk_20220917_213325849_24.txt (deflated 66%)\n",
            "  adding: content/yolov5/runs/detect/exp/labels/IMG_0505.txt (deflated 64%)\n",
            "  adding: content/yolov5/runs/detect/exp/labels/IMG_0614.txt (deflated 67%)\n",
            "  adding: content/yolov5/runs/detect/exp/labels/KakaoTalk_20220917_213424899_04.txt (deflated 63%)\n",
            "  adding: content/yolov5/runs/detect/exp/labels/IMG_0684.txt (deflated 64%)\n",
            "  adding: content/yolov5/runs/detect/exp/labels/IMG_0576.txt (deflated 67%)\n",
            "  adding: content/yolov5/runs/detect/exp/labels/IMG_0525.txt (deflated 63%)\n",
            "  adding: content/yolov5/runs/detect/exp/labels/KakaoTalk_20220917_213325849_05.txt (deflated 71%)\n",
            "  adding: content/yolov5/runs/detect/exp/labels/KakaoTalk_20220917_213424899_06.txt (deflated 66%)\n",
            "  adding: content/yolov5/runs/detect/exp/labels/KakaoTalk_20220917_213325849_06.txt (deflated 69%)\n",
            "  adding: content/yolov5/runs/detect/exp/labels/KakaoTalk_20220917_213325849_23.txt (deflated 67%)\n",
            "  adding: content/yolov5/runs/detect/exp/labels/IMG_0628.txt (deflated 67%)\n",
            "  adding: content/yolov5/runs/detect/exp/labels/IMG_0536.txt (deflated 63%)\n",
            "  adding: content/yolov5/runs/detect/exp/labels/KakaoTalk_20220917_213325849_18.txt (deflated 71%)\n",
            "  adding: content/yolov5/runs/detect/exp/labels/IMG_0611.txt (deflated 67%)\n",
            "  adding: content/yolov5/runs/detect/exp/labels/KakaoTalk_20220917_213424899.txt (deflated 63%)\n",
            "  adding: content/yolov5/runs/detect/exp/labels/KakaoTalk_20220917_213325849_21.txt (deflated 71%)\n",
            "  adding: content/yolov5/runs/detect/exp/labels/KakaoTalk_20220917_213325849_03.txt (deflated 69%)\n",
            "  adding: content/yolov5/runs/detect/exp/labels/IMG_0530.txt (deflated 63%)\n",
            "  adding: content/yolov5/runs/detect/exp/labels/IMG_0565.txt (deflated 66%)\n",
            "  adding: content/yolov5/runs/detect/exp/labels/IMG_0540.txt (deflated 66%)\n",
            "  adding: content/yolov5/runs/detect/exp/labels/KakaoTalk_20220917_213325849_28.txt (deflated 64%)\n",
            "  adding: content/yolov5/runs/detect/exp/labels/IMG_0633.txt (deflated 68%)\n",
            "  adding: content/yolov5/runs/detect/exp/labels/IMG_0570.txt (deflated 67%)\n",
            "  adding: content/yolov5/runs/detect/exp/labels/KakaoTalk_20220917_213325849_10.txt (deflated 69%)\n",
            "  adding: content/yolov5/runs/detect/exp/labels/KakaoTalk_20220917_213325849_09.txt (deflated 70%)\n",
            "  adding: content/yolov5/runs/detect/exp/labels/IMG_0484.txt (deflated 64%)\n",
            "  adding: content/yolov5/runs/detect/exp/labels/IMG_0541.txt (deflated 62%)\n",
            "  adding: content/yolov5/runs/detect/exp/labels/IMG_0610.txt (deflated 67%)\n",
            "  adding: content/yolov5/runs/detect/exp/labels/KakaoTalk_20220917_213325849_01.txt (deflated 70%)\n",
            "  adding: content/yolov5/runs/detect/exp/labels/IMG_0480.txt (deflated 63%)\n",
            "  adding: content/yolov5/runs/detect/exp/labels/KakaoTalk_20220917_213424899_01.txt (deflated 64%)\n",
            "  adding: content/yolov5/runs/detect/exp/labels/KakaoTalk_20220917_213325849_16.txt (deflated 71%)\n",
            "  adding: content/yolov5/runs/detect/exp/labels/IMG_0577.txt (deflated 67%)\n",
            "  adding: content/yolov5/runs/detect/exp/labels/KakaoTalk_20220917_213325849_15.txt (deflated 70%)\n",
            "  adding: content/yolov5/runs/detect/exp/labels/KakaoTalk_20220917_213325849_20.txt (deflated 69%)\n",
            "  adding: content/yolov5/runs/detect/exp/labels/IMG_0605.txt (deflated 67%)\n",
            "  adding: content/yolov5/runs/detect/exp/IMG_0661.JPG (deflated 0%)\n",
            "  adding: content/yolov5/runs/detect/exp/IMG_0660.JPG (deflated 0%)\n",
            "  adding: content/yolov5/runs/detect/exp/IMG_0566.JPG (deflated 0%)\n",
            "  adding: content/yolov5/runs/detect/exp/IMG_0510.JPG (deflated 0%)\n",
            "  adding: content/yolov5/runs/detect/exp/KakaoTalk_20220917_213325849_10.jpg (deflated 0%)\n",
            "  adding: content/yolov5/runs/detect/exp/KakaoTalk_20220917_213424899_04.jpg (deflated 0%)\n",
            "  adding: content/yolov5/runs/detect/exp/IMG_0476.JPG (deflated 0%)\n",
            "  adding: content/yolov5/runs/detect/exp/IMG_0684.JPG (deflated 0%)\n",
            "  adding: content/yolov5/runs/detect/exp/KakaoTalk_20220917_213325849_04.jpg (deflated 0%)\n",
            "  adding: content/yolov5/runs/detect/exp/KakaoTalk_20220917_213325849_28.jpg (deflated 0%)\n",
            "  adding: content/yolov5/runs/detect/exp/IMG_0541.JPG (deflated 0%)\n",
            "  adding: content/yolov5/runs/detect/exp/IMG_0549.JPG (deflated 0%)\n",
            "  adding: content/yolov5/runs/detect/exp/KakaoTalk_20220917_213325849_21.jpg (deflated 0%)\n",
            "  adding: content/yolov5/runs/detect/exp/IMG_0520.JPG (deflated 0%)\n",
            "  adding: content/yolov5/runs/detect/exp/KakaoTalk_20220917_213424899_09.jpg (deflated 0%)\n",
            "  adding: content/yolov5/runs/detect/exp/IMG_0614.JPG (deflated 0%)\n",
            "  adding: content/yolov5/runs/detect/exp/KakaoTalk_20220917_213325849_15.jpg (deflated 0%)\n",
            "  adding: content/yolov5/runs/detect/exp/IMG_0598.JPG (deflated 0%)\n",
            "  adding: content/yolov5/runs/detect/exp/KakaoTalk_20220917_213424899_02.jpg (deflated 0%)\n",
            "  adding: content/yolov5/runs/detect/exp/KakaoTalk_20220917_213325849_03.jpg (deflated 0%)\n",
            "  adding: content/yolov5/runs/detect/exp/IMG_0505.JPG (deflated 0%)\n",
            "  adding: content/yolov5/runs/detect/exp/IMG_0662.JPG (deflated 0%)\n",
            "  adding: content/yolov5/runs/detect/exp/KakaoTalk_20220917_213325849_29.jpg (deflated 0%)\n",
            "  adding: content/yolov5/runs/detect/exp/KakaoTalk_20220917_213325849_14.jpg (deflated 0%)\n",
            "  adding: content/yolov5/runs/detect/exp/KakaoTalk_20220917_213325849_16.jpg (deflated 0%)\n",
            "  adding: content/yolov5/runs/detect/exp/KakaoTalk_20220917_213424899_03.jpg (deflated 0%)\n",
            "  adding: content/yolov5/runs/detect/exp/IMG_0589.JPG (deflated 0%)\n",
            "  adding: content/yolov5/runs/detect/exp/KakaoTalk_20220917_213325849_22.jpg (deflated 0%)\n",
            "  adding: content/yolov5/runs/detect/exp/IMG_0560.JPG (deflated 0%)\n",
            "  adding: content/yolov5/runs/detect/exp/KakaoTalk_20220917_213325849_19.jpg (deflated 0%)\n",
            "  adding: content/yolov5/runs/detect/exp/IMG_0611.JPG (deflated 0%)\n",
            "  adding: content/yolov5/runs/detect/exp/KakaoTalk_20220917_213424899.jpg (deflated 0%)\n",
            "  adding: content/yolov5/runs/detect/exp/IMG_0519.JPG (deflated 0%)\n",
            "  adding: content/yolov5/runs/detect/exp/KakaoTalk_20220917_213424899_06.jpg (deflated 0%)\n",
            "  adding: content/yolov5/runs/detect/exp/KakaoTalk_20220917_213424899_01.jpg (deflated 0%)\n",
            "  adding: content/yolov5/runs/detect/exp/KakaoTalk_20220917_213424899_05.jpg (deflated 0%)\n",
            "  adding: content/yolov5/runs/detect/exp/KakaoTalk_20220917_213325849_07.jpg (deflated 0%)\n",
            "  adding: content/yolov5/runs/detect/exp/IMG_0536.JPG (deflated 0%)\n",
            "  adding: content/yolov5/runs/detect/exp/IMG_0511.JPG (deflated 0%)\n",
            "  adding: content/yolov5/runs/detect/exp/IMG_0556.JPG (deflated 0%)\n",
            "  adding: content/yolov5/runs/detect/exp/KakaoTalk_20220917_213325849.jpg (deflated 0%)\n",
            "  adding: content/yolov5/runs/detect/exp/KakaoTalk_20220917_213325849_01.jpg (deflated 0%)\n",
            "  adding: content/yolov5/runs/detect/exp/KakaoTalk_20220917_213325849_25.jpg (deflated 0%)\n",
            "  adding: content/yolov5/runs/detect/exp/IMG_0586.JPG (deflated 0%)\n",
            "  adding: content/yolov5/runs/detect/exp/KakaoTalk_20220917_213325849_17.jpg (deflated 1%)\n",
            "  adding: content/yolov5/runs/detect/exp/KakaoTalk_20220917_213325849_24.jpg (deflated 0%)\n",
            "  adding: content/yolov5/runs/detect/exp/IMG_0525.JPG (deflated 0%)\n",
            "  adding: content/yolov5/runs/detect/exp/KakaoTalk_20220917_213325849_18.jpg (deflated 1%)\n",
            "  adding: content/yolov5/runs/detect/exp/KakaoTalk_20220917_213325849_27.jpg (deflated 0%)\n",
            "  adding: content/yolov5/runs/detect/exp/IMG_0479.JPG (deflated 0%)\n",
            "  adding: content/yolov5/runs/detect/exp/IMG_0480.JPG (deflated 0%)\n",
            "  adding: content/yolov5/runs/detect/exp/IMG_0504.JPG (deflated 0%)\n",
            "  adding: content/yolov5/runs/detect/exp/IMG_0526.JPG (deflated 0%)\n",
            "  adding: content/yolov5/runs/detect/exp/IMG_0484.JPG (deflated 0%)\n",
            "  adding: content/yolov5/runs/detect/exp/KakaoTalk_20220917_213325849_05.jpg (deflated 0%)\n",
            "  adding: content/yolov5/runs/detect/exp/IMG_0578.JPG (deflated 0%)\n",
            "  adding: content/yolov5/runs/detect/exp/IMG_0576.JPG (deflated 0%)\n",
            "  adding: content/yolov5/runs/detect/exp/IMG_0620.JPG (deflated 0%)\n",
            "  adding: content/yolov5/runs/detect/exp/IMG_0610.JPG (deflated 0%)\n",
            "  adding: content/yolov5/runs/detect/exp/KakaoTalk_20220917_213325849_20.jpg (deflated 0%)\n",
            "  adding: content/yolov5/runs/detect/exp/IMG_0551.JPG (deflated 0%)\n",
            "  adding: content/yolov5/runs/detect/exp/KakaoTalk_20220917_213325849_02.jpg (deflated 0%)\n",
            "  adding: content/yolov5/runs/detect/exp/IMG_0570.JPG (deflated 0%)\n",
            "  adding: content/yolov5/runs/detect/exp/KakaoTalk_20220917_213325849_09.jpg (deflated 0%)\n",
            "  adding: content/yolov5/runs/detect/exp/KakaoTalk_20220917_213325849_08.jpg (deflated 0%)\n"
          ]
        }
      ]
    }
  ]
}