{
  "nbformat": 4,
  "nbformat_minor": 0,
  "metadata": {
    "accelerator": "GPU",
    "colab": {
      "provenance": [],
      "collapsed_sections": [],
      "machine_shape": "hm",
      "include_colab_link": true
    },
    "kernelspec": {
      "display_name": "Python 3",
      "name": "python3"
    },
    "language_info": {
      "name": "python"
    }
  },
  "cells": [
    {
      "cell_type": "markdown",
      "metadata": {
        "id": "view-in-github",
        "colab_type": "text"
      },
      "source": [
        "<a href=\"https://colab.research.google.com/github/KorStats/2022project/blob/main/%EC%9E%90%EB%8F%99labeling/1%EB%85%84%EC%B0%A8%20best%20pt%20%EB%A7%8C%EB%93%A4%EA%B8%B0.ipynb\" target=\"_parent\"><img src=\"https://colab.research.google.com/assets/colab-badge.svg\" alt=\"Open In Colab\"/></a>"
      ]
    },
    {
      "cell_type": "markdown",
      "metadata": {
        "id": "U3wrPXQ_ORLb"
      },
      "source": [
        "# 구글드라이브에서 파일 읽어오기"
      ]
    },
    {
      "cell_type": "markdown",
      "metadata": {
        "id": "BqcRZT2s6SR-"
      },
      "source": [
        "### 각자 이용할 데이터들을 images와 labels를 구분해서 zip 파일로 변환하여 드라이브에 저장 (images.zip, labels.zip 파일이 있어야함)"
      ]
    },
    {
      "cell_type": "code",
      "metadata": {
        "colab": {
          "base_uri": "https://localhost:8080/"
        },
        "id": "dqJbzoq_OPxK",
        "outputId": "cc8e61a0-f967-4884-bc38-50047c821879"
      },
      "source": [
        "from google.colab import drive\n",
        "drive.mount('/content/drive')"
      ],
      "execution_count": 1,
      "outputs": [
        {
          "output_type": "stream",
          "name": "stdout",
          "text": [
            "Mounted at /content/drive\n"
          ]
        }
      ]
    },
    {
      "cell_type": "code",
      "metadata": {
        "colab": {
          "base_uri": "https://localhost:8080/"
        },
        "id": "wmtIZqMGOdVX",
        "outputId": "8eed79c2-b337-4687-b531-e83dd8756f4c"
      },
      "source": [
        "from google.colab import drive\n",
        "drive.mount('/content/gdrive')\n",
        "!ln -s /content/gdrive/My\\ Drive/ /mydrive\n",
        "!ls /mydrive"
      ],
      "execution_count": 2,
      "outputs": [
        {
          "output_type": "stream",
          "name": "stdout",
          "text": [
            "Mounted at /content/gdrive\n",
            " 2022project\t    images_1730.zip   labels_1730.zip  'My Drive'\n",
            "'Colab Notebooks'   images_80.zip     labels_80.zip\n"
          ]
        }
      ]
    },
    {
      "cell_type": "code",
      "metadata": {
        "colab": {
          "base_uri": "https://localhost:8080/"
        },
        "id": "xV_iSLl7QFgx",
        "outputId": "0fbe762f-8b78-4737-9131-7edc93cea831"
      },
      "source": [
        "!unzip /content/gdrive/MyDrive/images_80.zip -d /content/dataset"
      ],
      "execution_count": 3,
      "outputs": [
        {
          "output_type": "stream",
          "name": "stdout",
          "text": [
            "Archive:  /content/gdrive/MyDrive/images_80.zip\n",
            "  inflating: /content/dataset/IMG_0476.JPG  \n",
            "  inflating: /content/dataset/IMG_0479.JPG  \n",
            "  inflating: /content/dataset/IMG_0480.JPG  \n",
            "  inflating: /content/dataset/IMG_0484.JPG  \n",
            "  inflating: /content/dataset/IMG_0504.JPG  \n",
            "  inflating: /content/dataset/IMG_0505.JPG  \n",
            "  inflating: /content/dataset/IMG_0510.JPG  \n",
            "  inflating: /content/dataset/IMG_0511.JPG  \n",
            "  inflating: /content/dataset/IMG_0519.JPG  \n",
            "  inflating: /content/dataset/IMG_0520.JPG  \n",
            "  inflating: /content/dataset/IMG_0525.JPG  \n",
            "  inflating: /content/dataset/IMG_0526.JPG  \n",
            "  inflating: /content/dataset/IMG_0530.JPG  \n",
            "  inflating: /content/dataset/IMG_0536.JPG  \n",
            "  inflating: /content/dataset/IMG_0540.JPG  \n",
            "  inflating: /content/dataset/IMG_0541.JPG  \n",
            "  inflating: /content/dataset/IMG_0549.JPG  \n",
            "  inflating: /content/dataset/IMG_0551.JPG  \n",
            "  inflating: /content/dataset/IMG_0556.JPG  \n",
            "  inflating: /content/dataset/IMG_0560.JPG  \n",
            "  inflating: /content/dataset/IMG_0565.JPG  \n",
            "  inflating: /content/dataset/IMG_0566.JPG  \n",
            "  inflating: /content/dataset/IMG_0570.JPG  \n",
            "  inflating: /content/dataset/IMG_0576.JPG  \n",
            "  inflating: /content/dataset/IMG_0577.JPG  \n",
            "  inflating: /content/dataset/IMG_0578.JPG  \n",
            "  inflating: /content/dataset/IMG_0585.JPG  \n",
            "  inflating: /content/dataset/IMG_0586.JPG  \n",
            "  inflating: /content/dataset/IMG_0589.JPG  \n",
            "  inflating: /content/dataset/IMG_0598.JPG  \n",
            "  inflating: /content/dataset/IMG_0605.JPG  \n",
            "  inflating: /content/dataset/IMG_0610.JPG  \n",
            "  inflating: /content/dataset/IMG_0611.JPG  \n",
            "  inflating: /content/dataset/IMG_0614.JPG  \n",
            "  inflating: /content/dataset/IMG_0620.JPG  \n",
            "  inflating: /content/dataset/IMG_0627.JPG  \n",
            "  inflating: /content/dataset/IMG_0628.JPG  \n",
            "  inflating: /content/dataset/IMG_0633.JPG  \n",
            "  inflating: /content/dataset/IMG_0660.JPG  \n",
            "  inflating: /content/dataset/IMG_0661.JPG  \n",
            "  inflating: /content/dataset/IMG_0662.JPG  \n",
            "  inflating: /content/dataset/IMG_0684.JPG  \n",
            "  inflating: /content/dataset/IMG_0695.JPG  \n",
            "  inflating: /content/dataset/KakaoTalk_20220917_213325849.jpg  \n",
            "  inflating: /content/dataset/KakaoTalk_20220917_213325849_01.jpg  \n",
            "  inflating: /content/dataset/KakaoTalk_20220917_213325849_02.jpg  \n",
            "  inflating: /content/dataset/KakaoTalk_20220917_213325849_03.jpg  \n",
            "  inflating: /content/dataset/KakaoTalk_20220917_213325849_04.jpg  \n",
            "  inflating: /content/dataset/KakaoTalk_20220917_213325849_05.jpg  \n",
            "  inflating: /content/dataset/KakaoTalk_20220917_213325849_06.jpg  \n",
            "  inflating: /content/dataset/KakaoTalk_20220917_213325849_07.jpg  \n",
            "  inflating: /content/dataset/KakaoTalk_20220917_213325849_08.jpg  \n",
            "  inflating: /content/dataset/KakaoTalk_20220917_213325849_09.jpg  \n",
            "  inflating: /content/dataset/KakaoTalk_20220917_213325849_10.jpg  \n",
            "  inflating: /content/dataset/KakaoTalk_20220917_213325849_14.jpg  \n",
            "  inflating: /content/dataset/KakaoTalk_20220917_213325849_15.jpg  \n",
            "  inflating: /content/dataset/KakaoTalk_20220917_213325849_16.jpg  \n",
            "  inflating: /content/dataset/KakaoTalk_20220917_213325849_17.jpg  \n",
            "  inflating: /content/dataset/KakaoTalk_20220917_213325849_18.jpg  \n",
            "  inflating: /content/dataset/KakaoTalk_20220917_213325849_19.jpg  \n",
            "  inflating: /content/dataset/KakaoTalk_20220917_213325849_20.jpg  \n",
            "  inflating: /content/dataset/KakaoTalk_20220917_213325849_21.jpg  \n",
            "  inflating: /content/dataset/KakaoTalk_20220917_213325849_22.jpg  \n",
            "  inflating: /content/dataset/KakaoTalk_20220917_213325849_23.jpg  \n",
            "  inflating: /content/dataset/KakaoTalk_20220917_213325849_24.jpg  \n",
            "  inflating: /content/dataset/KakaoTalk_20220917_213325849_25.jpg  \n",
            "  inflating: /content/dataset/KakaoTalk_20220917_213325849_26.jpg  \n",
            "  inflating: /content/dataset/KakaoTalk_20220917_213325849_27.jpg  \n",
            "  inflating: /content/dataset/KakaoTalk_20220917_213325849_28.jpg  \n",
            "  inflating: /content/dataset/KakaoTalk_20220917_213325849_29.jpg  \n",
            "  inflating: /content/dataset/KakaoTalk_20220917_213424899.jpg  \n",
            "  inflating: /content/dataset/KakaoTalk_20220917_213424899_01.jpg  \n",
            "  inflating: /content/dataset/KakaoTalk_20220917_213424899_02.jpg  \n",
            "  inflating: /content/dataset/KakaoTalk_20220917_213424899_03.jpg  \n",
            "  inflating: /content/dataset/KakaoTalk_20220917_213424899_04.jpg  \n",
            "  inflating: /content/dataset/KakaoTalk_20220917_213424899_05.jpg  \n",
            "  inflating: /content/dataset/KakaoTalk_20220917_213424899_06.jpg  \n",
            "  inflating: /content/dataset/KakaoTalk_20220917_213424899_07.jpg  \n",
            "  inflating: /content/dataset/KakaoTalk_20220917_213424899_09.jpg  \n",
            "  inflating: /content/dataset/KakaoTalk_20220917_213424899_10.jpg  \n"
          ]
        }
      ]
    },
    {
      "cell_type": "code",
      "metadata": {
        "id": "FecutbwCQcWT",
        "colab": {
          "base_uri": "https://localhost:8080/"
        },
        "outputId": "e5ddb987-94f5-4357-b9e6-9c4efd4808d1"
      },
      "source": [
        "!unzip /content/gdrive/MyDrive/labels_80.zip -d /content/dataset"
      ],
      "execution_count": 4,
      "outputs": [
        {
          "output_type": "stream",
          "name": "stdout",
          "text": [
            "Archive:  /content/gdrive/MyDrive/labels_80.zip\n",
            "  inflating: /content/dataset/IMG_0476.txt  \n",
            "  inflating: /content/dataset/IMG_0479.txt  \n",
            "  inflating: /content/dataset/IMG_0480.txt  \n",
            "  inflating: /content/dataset/IMG_0484.txt  \n",
            "  inflating: /content/dataset/IMG_0504.txt  \n",
            "  inflating: /content/dataset/IMG_0505.txt  \n",
            "  inflating: /content/dataset/IMG_0510.txt  \n",
            "  inflating: /content/dataset/IMG_0511.txt  \n",
            "  inflating: /content/dataset/IMG_0519.txt  \n",
            "  inflating: /content/dataset/IMG_0520.txt  \n",
            "  inflating: /content/dataset/IMG_0525.txt  \n",
            "  inflating: /content/dataset/IMG_0526.txt  \n",
            "  inflating: /content/dataset/IMG_0530.txt  \n",
            "  inflating: /content/dataset/IMG_0536.txt  \n",
            "  inflating: /content/dataset/IMG_0540.txt  \n",
            "  inflating: /content/dataset/IMG_0541.txt  \n",
            "  inflating: /content/dataset/IMG_0549.txt  \n",
            "  inflating: /content/dataset/IMG_0551.txt  \n",
            "  inflating: /content/dataset/IMG_0556.txt  \n",
            "  inflating: /content/dataset/IMG_0560.txt  \n",
            "  inflating: /content/dataset/IMG_0565.txt  \n",
            "  inflating: /content/dataset/IMG_0566.txt  \n",
            "  inflating: /content/dataset/IMG_0570.txt  \n",
            "  inflating: /content/dataset/IMG_0576.txt  \n",
            "  inflating: /content/dataset/IMG_0577.txt  \n",
            "  inflating: /content/dataset/IMG_0578.txt  \n",
            "  inflating: /content/dataset/IMG_0585.txt  \n",
            "  inflating: /content/dataset/IMG_0586.txt  \n",
            "  inflating: /content/dataset/IMG_0589.txt  \n",
            "  inflating: /content/dataset/IMG_0598.txt  \n",
            "  inflating: /content/dataset/IMG_0605.txt  \n",
            "  inflating: /content/dataset/IMG_0610.txt  \n",
            "  inflating: /content/dataset/IMG_0611.txt  \n",
            "  inflating: /content/dataset/IMG_0614.txt  \n",
            "  inflating: /content/dataset/IMG_0620.txt  \n",
            "  inflating: /content/dataset/IMG_0627.txt  \n",
            "  inflating: /content/dataset/IMG_0628.txt  \n",
            "  inflating: /content/dataset/IMG_0633.txt  \n",
            "  inflating: /content/dataset/IMG_0660.txt  \n",
            "  inflating: /content/dataset/IMG_0661.txt  \n",
            "  inflating: /content/dataset/IMG_0662.txt  \n",
            "  inflating: /content/dataset/IMG_0684.txt  \n",
            "  inflating: /content/dataset/IMG_0695.txt  \n",
            "  inflating: /content/dataset/KakaoTalk_20220917_213325849.txt  \n",
            "  inflating: /content/dataset/KakaoTalk_20220917_213325849_01.txt  \n",
            "  inflating: /content/dataset/KakaoTalk_20220917_213325849_02.txt  \n",
            "  inflating: /content/dataset/KakaoTalk_20220917_213325849_03.txt  \n",
            "  inflating: /content/dataset/KakaoTalk_20220917_213325849_04.txt  \n",
            "  inflating: /content/dataset/KakaoTalk_20220917_213325849_05.txt  \n",
            "  inflating: /content/dataset/KakaoTalk_20220917_213325849_06.txt  \n",
            "  inflating: /content/dataset/KakaoTalk_20220917_213325849_07.txt  \n",
            "  inflating: /content/dataset/KakaoTalk_20220917_213325849_08.txt  \n",
            "  inflating: /content/dataset/KakaoTalk_20220917_213325849_09.txt  \n",
            "  inflating: /content/dataset/KakaoTalk_20220917_213325849_10.txt  \n",
            "  inflating: /content/dataset/KakaoTalk_20220917_213325849_14.txt  \n",
            "  inflating: /content/dataset/KakaoTalk_20220917_213325849_15.txt  \n",
            "  inflating: /content/dataset/KakaoTalk_20220917_213325849_16.txt  \n",
            "  inflating: /content/dataset/KakaoTalk_20220917_213325849_17.txt  \n",
            "  inflating: /content/dataset/KakaoTalk_20220917_213325849_18.txt  \n",
            "  inflating: /content/dataset/KakaoTalk_20220917_213325849_19.txt  \n",
            "  inflating: /content/dataset/KakaoTalk_20220917_213325849_20.txt  \n",
            "  inflating: /content/dataset/KakaoTalk_20220917_213325849_21.txt  \n",
            "  inflating: /content/dataset/KakaoTalk_20220917_213325849_22.txt  \n",
            "  inflating: /content/dataset/KakaoTalk_20220917_213325849_23.txt  \n",
            "  inflating: /content/dataset/KakaoTalk_20220917_213325849_24.txt  \n",
            "  inflating: /content/dataset/KakaoTalk_20220917_213325849_25.txt  \n",
            "  inflating: /content/dataset/KakaoTalk_20220917_213325849_26.txt  \n",
            "  inflating: /content/dataset/KakaoTalk_20220917_213325849_27.txt  \n",
            "  inflating: /content/dataset/KakaoTalk_20220917_213325849_28.txt  \n",
            "  inflating: /content/dataset/KakaoTalk_20220917_213325849_29.txt  \n",
            "  inflating: /content/dataset/KakaoTalk_20220917_213424899.txt  \n",
            "  inflating: /content/dataset/KakaoTalk_20220917_213424899_01.txt  \n",
            "  inflating: /content/dataset/KakaoTalk_20220917_213424899_02.txt  \n",
            "  inflating: /content/dataset/KakaoTalk_20220917_213424899_03.txt  \n",
            "  inflating: /content/dataset/KakaoTalk_20220917_213424899_04.txt  \n",
            "  inflating: /content/dataset/KakaoTalk_20220917_213424899_05.txt  \n",
            "  inflating: /content/dataset/KakaoTalk_20220917_213424899_06.txt  \n",
            "  inflating: /content/dataset/KakaoTalk_20220917_213424899_07.txt  \n",
            "  inflating: /content/dataset/KakaoTalk_20220917_213424899_09.txt  \n",
            "  inflating: /content/dataset/KakaoTalk_20220917_213424899_10.txt  \n"
          ]
        }
      ]
    },
    {
      "cell_type": "markdown",
      "metadata": {
        "id": "aFjncd4CnGZR"
      },
      "source": [
        "# YOLOV5 모델 시작"
      ]
    },
    {
      "cell_type": "code",
      "metadata": {
        "id": "rNDjMU0GheJj",
        "colab": {
          "base_uri": "https://localhost:8080/"
        },
        "outputId": "1aef59f2-df46-403d-e465-188823721dcf"
      },
      "source": [
        "%cd /content\n",
        "!git clone https://github.com/ultralytics/yolov5.git"
      ],
      "execution_count": 5,
      "outputs": [
        {
          "output_type": "stream",
          "name": "stdout",
          "text": [
            "/content\n",
            "Cloning into 'yolov5'...\n",
            "remote: Enumerating objects: 12883, done.\u001b[K\n",
            "remote: Counting objects: 100% (39/39), done.\u001b[K\n",
            "remote: Compressing objects: 100% (21/21), done.\u001b[K\n",
            "remote: Total 12883 (delta 22), reused 28 (delta 18), pack-reused 12844\u001b[K\n",
            "Receiving objects: 100% (12883/12883), 13.07 MiB | 11.50 MiB/s, done.\n",
            "Resolving deltas: 100% (8857/8857), done.\n"
          ]
        }
      ]
    },
    {
      "cell_type": "code",
      "metadata": {
        "id": "MSO9wwGbkrJS",
        "colab": {
          "base_uri": "https://localhost:8080/"
        },
        "outputId": "4364c417-13ed-4737-8bcb-958bd4dc98f4"
      },
      "source": [
        "%cd /content/yolov5/\n",
        "!pip install -r requirements.txt"
      ],
      "execution_count": 6,
      "outputs": [
        {
          "output_type": "stream",
          "name": "stdout",
          "text": [
            "/content/yolov5\n",
            "Looking in indexes: https://pypi.org/simple, https://us-python.pkg.dev/colab-wheels/public/simple/\n",
            "Requirement already satisfied: matplotlib>=3.2.2 in /usr/local/lib/python3.7/dist-packages (from -r requirements.txt (line 5)) (3.2.2)\n",
            "Requirement already satisfied: numpy>=1.18.5 in /usr/local/lib/python3.7/dist-packages (from -r requirements.txt (line 6)) (1.21.6)\n",
            "Requirement already satisfied: opencv-python>=4.1.1 in /usr/local/lib/python3.7/dist-packages (from -r requirements.txt (line 7)) (4.6.0.66)\n",
            "Requirement already satisfied: Pillow>=7.1.2 in /usr/local/lib/python3.7/dist-packages (from -r requirements.txt (line 8)) (7.1.2)\n",
            "Requirement already satisfied: PyYAML>=5.3.1 in /usr/local/lib/python3.7/dist-packages (from -r requirements.txt (line 9)) (6.0)\n",
            "Requirement already satisfied: requests>=2.23.0 in /usr/local/lib/python3.7/dist-packages (from -r requirements.txt (line 10)) (2.23.0)\n",
            "Requirement already satisfied: scipy>=1.4.1 in /usr/local/lib/python3.7/dist-packages (from -r requirements.txt (line 11)) (1.7.3)\n",
            "Requirement already satisfied: torch>=1.7.0 in /usr/local/lib/python3.7/dist-packages (from -r requirements.txt (line 12)) (1.12.1+cu113)\n",
            "Requirement already satisfied: torchvision>=0.8.1 in /usr/local/lib/python3.7/dist-packages (from -r requirements.txt (line 13)) (0.13.1+cu113)\n",
            "Requirement already satisfied: tqdm>=4.64.0 in /usr/local/lib/python3.7/dist-packages (from -r requirements.txt (line 14)) (4.64.1)\n",
            "Requirement already satisfied: tensorboard>=2.4.1 in /usr/local/lib/python3.7/dist-packages (from -r requirements.txt (line 18)) (2.8.0)\n",
            "Requirement already satisfied: pandas>=1.1.4 in /usr/local/lib/python3.7/dist-packages (from -r requirements.txt (line 23)) (1.3.5)\n",
            "Requirement already satisfied: seaborn>=0.11.0 in /usr/local/lib/python3.7/dist-packages (from -r requirements.txt (line 24)) (0.11.2)\n",
            "Requirement already satisfied: ipython in /usr/local/lib/python3.7/dist-packages (from -r requirements.txt (line 41)) (7.9.0)\n",
            "Requirement already satisfied: psutil in /usr/local/lib/python3.7/dist-packages (from -r requirements.txt (line 42)) (5.4.8)\n",
            "Collecting thop>=0.1.1\n",
            "  Downloading thop-0.1.1.post2209072238-py3-none-any.whl (15 kB)\n",
            "Requirement already satisfied: cycler>=0.10 in /usr/local/lib/python3.7/dist-packages (from matplotlib>=3.2.2->-r requirements.txt (line 5)) (0.11.0)\n",
            "Requirement already satisfied: kiwisolver>=1.0.1 in /usr/local/lib/python3.7/dist-packages (from matplotlib>=3.2.2->-r requirements.txt (line 5)) (1.4.4)\n",
            "Requirement already satisfied: python-dateutil>=2.1 in /usr/local/lib/python3.7/dist-packages (from matplotlib>=3.2.2->-r requirements.txt (line 5)) (2.8.2)\n",
            "Requirement already satisfied: pyparsing!=2.0.4,!=2.1.2,!=2.1.6,>=2.0.1 in /usr/local/lib/python3.7/dist-packages (from matplotlib>=3.2.2->-r requirements.txt (line 5)) (3.0.9)\n",
            "Requirement already satisfied: certifi>=2017.4.17 in /usr/local/lib/python3.7/dist-packages (from requests>=2.23.0->-r requirements.txt (line 10)) (2022.6.15)\n",
            "Requirement already satisfied: chardet<4,>=3.0.2 in /usr/local/lib/python3.7/dist-packages (from requests>=2.23.0->-r requirements.txt (line 10)) (3.0.4)\n",
            "Requirement already satisfied: urllib3!=1.25.0,!=1.25.1,<1.26,>=1.21.1 in /usr/local/lib/python3.7/dist-packages (from requests>=2.23.0->-r requirements.txt (line 10)) (1.24.3)\n",
            "Requirement already satisfied: idna<3,>=2.5 in /usr/local/lib/python3.7/dist-packages (from requests>=2.23.0->-r requirements.txt (line 10)) (2.10)\n",
            "Requirement already satisfied: typing-extensions in /usr/local/lib/python3.7/dist-packages (from torch>=1.7.0->-r requirements.txt (line 12)) (4.1.1)\n",
            "Requirement already satisfied: google-auth<3,>=1.6.3 in /usr/local/lib/python3.7/dist-packages (from tensorboard>=2.4.1->-r requirements.txt (line 18)) (1.35.0)\n",
            "Requirement already satisfied: protobuf>=3.6.0 in /usr/local/lib/python3.7/dist-packages (from tensorboard>=2.4.1->-r requirements.txt (line 18)) (3.17.3)\n",
            "Requirement already satisfied: grpcio>=1.24.3 in /usr/local/lib/python3.7/dist-packages (from tensorboard>=2.4.1->-r requirements.txt (line 18)) (1.48.1)\n",
            "Requirement already satisfied: wheel>=0.26 in /usr/local/lib/python3.7/dist-packages (from tensorboard>=2.4.1->-r requirements.txt (line 18)) (0.37.1)\n",
            "Requirement already satisfied: setuptools>=41.0.0 in /usr/local/lib/python3.7/dist-packages (from tensorboard>=2.4.1->-r requirements.txt (line 18)) (57.4.0)\n",
            "Requirement already satisfied: google-auth-oauthlib<0.5,>=0.4.1 in /usr/local/lib/python3.7/dist-packages (from tensorboard>=2.4.1->-r requirements.txt (line 18)) (0.4.6)\n",
            "Requirement already satisfied: werkzeug>=0.11.15 in /usr/local/lib/python3.7/dist-packages (from tensorboard>=2.4.1->-r requirements.txt (line 18)) (1.0.1)\n",
            "Requirement already satisfied: tensorboard-data-server<0.7.0,>=0.6.0 in /usr/local/lib/python3.7/dist-packages (from tensorboard>=2.4.1->-r requirements.txt (line 18)) (0.6.1)\n",
            "Requirement already satisfied: markdown>=2.6.8 in /usr/local/lib/python3.7/dist-packages (from tensorboard>=2.4.1->-r requirements.txt (line 18)) (3.4.1)\n",
            "Requirement already satisfied: tensorboard-plugin-wit>=1.6.0 in /usr/local/lib/python3.7/dist-packages (from tensorboard>=2.4.1->-r requirements.txt (line 18)) (1.8.1)\n",
            "Requirement already satisfied: absl-py>=0.4 in /usr/local/lib/python3.7/dist-packages (from tensorboard>=2.4.1->-r requirements.txt (line 18)) (1.2.0)\n",
            "Requirement already satisfied: pytz>=2017.3 in /usr/local/lib/python3.7/dist-packages (from pandas>=1.1.4->-r requirements.txt (line 23)) (2022.2.1)\n",
            "Requirement already satisfied: cachetools<5.0,>=2.0.0 in /usr/local/lib/python3.7/dist-packages (from google-auth<3,>=1.6.3->tensorboard>=2.4.1->-r requirements.txt (line 18)) (4.2.4)\n",
            "Requirement already satisfied: six>=1.9.0 in /usr/local/lib/python3.7/dist-packages (from google-auth<3,>=1.6.3->tensorboard>=2.4.1->-r requirements.txt (line 18)) (1.15.0)\n",
            "Requirement already satisfied: pyasn1-modules>=0.2.1 in /usr/local/lib/python3.7/dist-packages (from google-auth<3,>=1.6.3->tensorboard>=2.4.1->-r requirements.txt (line 18)) (0.2.8)\n",
            "Requirement already satisfied: rsa<5,>=3.1.4 in /usr/local/lib/python3.7/dist-packages (from google-auth<3,>=1.6.3->tensorboard>=2.4.1->-r requirements.txt (line 18)) (4.9)\n",
            "Requirement already satisfied: requests-oauthlib>=0.7.0 in /usr/local/lib/python3.7/dist-packages (from google-auth-oauthlib<0.5,>=0.4.1->tensorboard>=2.4.1->-r requirements.txt (line 18)) (1.3.1)\n",
            "Requirement already satisfied: importlib-metadata>=4.4 in /usr/local/lib/python3.7/dist-packages (from markdown>=2.6.8->tensorboard>=2.4.1->-r requirements.txt (line 18)) (4.12.0)\n",
            "Requirement already satisfied: zipp>=0.5 in /usr/local/lib/python3.7/dist-packages (from importlib-metadata>=4.4->markdown>=2.6.8->tensorboard>=2.4.1->-r requirements.txt (line 18)) (3.8.1)\n",
            "Requirement already satisfied: pyasn1<0.5.0,>=0.4.6 in /usr/local/lib/python3.7/dist-packages (from pyasn1-modules>=0.2.1->google-auth<3,>=1.6.3->tensorboard>=2.4.1->-r requirements.txt (line 18)) (0.4.8)\n",
            "Requirement already satisfied: oauthlib>=3.0.0 in /usr/local/lib/python3.7/dist-packages (from requests-oauthlib>=0.7.0->google-auth-oauthlib<0.5,>=0.4.1->tensorboard>=2.4.1->-r requirements.txt (line 18)) (3.2.0)\n",
            "Requirement already satisfied: traitlets>=4.2 in /usr/local/lib/python3.7/dist-packages (from ipython->-r requirements.txt (line 41)) (5.1.1)\n",
            "Requirement already satisfied: pygments in /usr/local/lib/python3.7/dist-packages (from ipython->-r requirements.txt (line 41)) (2.6.1)\n",
            "Requirement already satisfied: pexpect in /usr/local/lib/python3.7/dist-packages (from ipython->-r requirements.txt (line 41)) (4.8.0)\n",
            "Collecting jedi>=0.10\n",
            "  Downloading jedi-0.18.1-py2.py3-none-any.whl (1.6 MB)\n",
            "\u001b[K     |████████████████████████████████| 1.6 MB 14.2 MB/s \n",
            "\u001b[?25hRequirement already satisfied: pickleshare in /usr/local/lib/python3.7/dist-packages (from ipython->-r requirements.txt (line 41)) (0.7.5)\n",
            "Requirement already satisfied: prompt-toolkit<2.1.0,>=2.0.0 in /usr/local/lib/python3.7/dist-packages (from ipython->-r requirements.txt (line 41)) (2.0.10)\n",
            "Requirement already satisfied: backcall in /usr/local/lib/python3.7/dist-packages (from ipython->-r requirements.txt (line 41)) (0.2.0)\n",
            "Requirement already satisfied: decorator in /usr/local/lib/python3.7/dist-packages (from ipython->-r requirements.txt (line 41)) (4.4.2)\n",
            "Requirement already satisfied: parso<0.9.0,>=0.8.0 in /usr/local/lib/python3.7/dist-packages (from jedi>=0.10->ipython->-r requirements.txt (line 41)) (0.8.3)\n",
            "Requirement already satisfied: wcwidth in /usr/local/lib/python3.7/dist-packages (from prompt-toolkit<2.1.0,>=2.0.0->ipython->-r requirements.txt (line 41)) (0.2.5)\n",
            "Requirement already satisfied: ptyprocess>=0.5 in /usr/local/lib/python3.7/dist-packages (from pexpect->ipython->-r requirements.txt (line 41)) (0.7.0)\n",
            "Installing collected packages: jedi, thop\n",
            "Successfully installed jedi-0.18.1 thop-0.1.1.post2209072238\n"
          ]
        }
      ]
    },
    {
      "cell_type": "code",
      "metadata": {
        "colab": {
          "base_uri": "https://localhost:8080/"
        },
        "id": "XUdwXv_tkrQG",
        "outputId": "2289b7f3-ad3b-426b-9603-40ba0f02a961"
      },
      "source": [
        "%cd / \n",
        "from glob import glob\n",
        "\n",
        "img_list1=glob('/content/dataset/*.jpg')\n",
        "img_list2=glob('/content/dataset/*.JPG')\n",
        "img_list=img_list1+img_list2\n",
        "print(len(img_list))"
      ],
      "execution_count": 7,
      "outputs": [
        {
          "output_type": "stream",
          "name": "stdout",
          "text": [
            "/\n",
            "80\n"
          ]
        }
      ]
    },
    {
      "cell_type": "code",
      "metadata": {
        "colab": {
          "base_uri": "https://localhost:8080/"
        },
        "id": "CXREwe7Ekzxk",
        "outputId": "d068ab5e-783c-48f1-b2f8-8a7da0201685"
      },
      "source": [
        "from sklearn.model_selection import train_test_split\n",
        "\n",
        "train_img_list, val_img_list=train_test_split(img_list, test_size=0.1, random_state=0)\n",
        "print(len(train_img_list), len(val_img_list))"
      ],
      "execution_count": 8,
      "outputs": [
        {
          "output_type": "stream",
          "name": "stdout",
          "text": [
            "72 8\n"
          ]
        }
      ]
    },
    {
      "cell_type": "code",
      "metadata": {
        "id": "mg0GQhYTkz0H"
      },
      "source": [
        "with open('/content/dataset/train.txt', 'w') as f:\n",
        "  f.write('\\n'.join(train_img_list)+'\\n')\n",
        "\n",
        "with open('/content/dataset/val.txt', 'w') as f:\n",
        "  f.write('\\n'.join(val_img_list)+'\\n')"
      ],
      "execution_count": 9,
      "outputs": []
    },
    {
      "cell_type": "code",
      "metadata": {
        "colab": {
          "base_uri": "https://localhost:8080/"
        },
        "id": "hmBfhpMInvFa",
        "outputId": "65560831-4879-4ce9-f23e-c95e015d301e"
      },
      "source": [
        "import yaml\n",
        "\n",
        "dataform= {'train': '/content/dataset/train.txt', 'val':'/content/dataset/val.txt', 'nc': 1, 'names' : ['crop']}\n",
        "\n",
        "with open('/content/dataset/data.yaml', 'w') as f:\n",
        "    yaml.dump(dataform, f)\n",
        "\n",
        "%cat /content/dataset/data.yaml"
      ],
      "execution_count": 10,
      "outputs": [
        {
          "output_type": "stream",
          "name": "stdout",
          "text": [
            "names:\n",
            "- crop\n",
            "nc: 1\n",
            "train: /content/dataset/train.txt\n",
            "val: /content/dataset/val.txt\n"
          ]
        }
      ]
    },
    {
      "cell_type": "code",
      "metadata": {
        "colab": {
          "base_uri": "https://localhost:8080/"
        },
        "id": "1Pq3xgslurQ9",
        "outputId": "5b46a37f-7a06-4fc9-adff-422050e36682"
      },
      "source": [
        "%cd /content/yolov5/\n",
        "\n",
        "!python train.py --img 640 --batch 8 --epochs 30 --data /content/dataset/data.yaml --cfg ./models/yolov5x.yaml --weights yolov5x.pt --name grain_results --single-cls"
      ],
      "execution_count": 11,
      "outputs": [
        {
          "output_type": "stream",
          "name": "stdout",
          "text": [
            "/content/yolov5\n",
            "\u001b[34m\u001b[1mtrain: \u001b[0mweights=yolov5x.pt, cfg=./models/yolov5x.yaml, data=/content/dataset/data.yaml, hyp=data/hyps/hyp.scratch-low.yaml, epochs=30, batch_size=8, imgsz=640, rect=False, resume=False, nosave=False, noval=False, noautoanchor=False, noplots=False, evolve=None, bucket=, cache=None, image_weights=False, device=, multi_scale=False, single_cls=True, optimizer=SGD, sync_bn=False, workers=8, project=runs/train, name=grain_results, exist_ok=False, quad=False, cos_lr=False, label_smoothing=0.0, patience=100, freeze=[0], save_period=-1, seed=0, local_rank=-1, entity=None, upload_dataset=False, bbox_interval=-1, artifact_alias=latest\n",
            "\u001b[34m\u001b[1mgithub: \u001b[0mup to date with https://github.com/ultralytics/yolov5 ✅\n",
            "YOLOv5 🚀 v6.2-177-g2373d54 Python-3.7.14 torch-1.12.1+cu113 CUDA:0 (Tesla V100-SXM2-16GB, 16160MiB)\n",
            "\n",
            "\u001b[34m\u001b[1mhyperparameters: \u001b[0mlr0=0.01, lrf=0.01, momentum=0.937, weight_decay=0.0005, warmup_epochs=3.0, warmup_momentum=0.8, warmup_bias_lr=0.1, box=0.05, cls=0.5, cls_pw=1.0, obj=1.0, obj_pw=1.0, iou_t=0.2, anchor_t=4.0, fl_gamma=0.0, hsv_h=0.015, hsv_s=0.7, hsv_v=0.4, degrees=0.0, translate=0.1, scale=0.5, shear=0.0, perspective=0.0, flipud=0.0, fliplr=0.5, mosaic=1.0, mixup=0.0, copy_paste=0.0\n",
            "\u001b[34m\u001b[1mWeights & Biases: \u001b[0mrun 'pip install wandb' to automatically track and visualize YOLOv5 🚀 runs in Weights & Biases\n",
            "\u001b[34m\u001b[1mClearML: \u001b[0mrun 'pip install clearml' to automatically track, visualize and remotely train YOLOv5 🚀 in ClearML\n",
            "\u001b[34m\u001b[1mComet: \u001b[0mrun 'pip install comet_ml' to automatically track and visualize YOLOv5 🚀 runs in Comet\n",
            "\u001b[34m\u001b[1mTensorBoard: \u001b[0mStart with 'tensorboard --logdir runs/train', view at http://localhost:6006/\n",
            "Downloading https://ultralytics.com/assets/Arial.ttf to /root/.config/Ultralytics/Arial.ttf...\n",
            "100% 755k/755k [00:00<00:00, 47.9MB/s]\n",
            "Downloading https://github.com/ultralytics/yolov5/releases/download/v6.2/yolov5x.pt to yolov5x.pt...\n",
            "100% 166M/166M [00:16<00:00, 10.5MB/s]\n",
            "\n",
            "Overriding model.yaml nc=80 with nc=1\n",
            "\n",
            "                 from  n    params  module                                  arguments                     \n",
            "  0                -1  1      8800  models.common.Conv                      [3, 80, 6, 2, 2]              \n",
            "  1                -1  1    115520  models.common.Conv                      [80, 160, 3, 2]               \n",
            "  2                -1  4    309120  models.common.C3                        [160, 160, 4]                 \n",
            "  3                -1  1    461440  models.common.Conv                      [160, 320, 3, 2]              \n",
            "  4                -1  8   2259200  models.common.C3                        [320, 320, 8]                 \n",
            "  5                -1  1   1844480  models.common.Conv                      [320, 640, 3, 2]              \n",
            "  6                -1 12  13125120  models.common.C3                        [640, 640, 12]                \n",
            "  7                -1  1   7375360  models.common.Conv                      [640, 1280, 3, 2]             \n",
            "  8                -1  4  19676160  models.common.C3                        [1280, 1280, 4]               \n",
            "  9                -1  1   4099840  models.common.SPPF                      [1280, 1280, 5]               \n",
            " 10                -1  1    820480  models.common.Conv                      [1280, 640, 1, 1]             \n",
            " 11                -1  1         0  torch.nn.modules.upsampling.Upsample    [None, 2, 'nearest']          \n",
            " 12           [-1, 6]  1         0  models.common.Concat                    [1]                           \n",
            " 13                -1  4   5332480  models.common.C3                        [1280, 640, 4, False]         \n",
            " 14                -1  1    205440  models.common.Conv                      [640, 320, 1, 1]              \n",
            " 15                -1  1         0  torch.nn.modules.upsampling.Upsample    [None, 2, 'nearest']          \n",
            " 16           [-1, 4]  1         0  models.common.Concat                    [1]                           \n",
            " 17                -1  4   1335040  models.common.C3                        [640, 320, 4, False]          \n",
            " 18                -1  1    922240  models.common.Conv                      [320, 320, 3, 2]              \n",
            " 19          [-1, 14]  1         0  models.common.Concat                    [1]                           \n",
            " 20                -1  4   4922880  models.common.C3                        [640, 640, 4, False]          \n",
            " 21                -1  1   3687680  models.common.Conv                      [640, 640, 3, 2]              \n",
            " 22          [-1, 10]  1         0  models.common.Concat                    [1]                           \n",
            " 23                -1  4  19676160  models.common.C3                        [1280, 1280, 4, False]        \n",
            " 24      [17, 20, 23]  1     40374  models.yolo.Detect                      [1, [[10, 13, 16, 30, 33, 23], [30, 61, 62, 45, 59, 119], [116, 90, 156, 198, 373, 326]], [320, 640, 1280]]\n",
            "YOLOv5x summary: 445 layers, 86217814 parameters, 86217814 gradients, 204.6 GFLOPs\n",
            "\n",
            "Transferred 738/745 items from yolov5x.pt\n",
            "\u001b[34m\u001b[1mAMP: \u001b[0mchecks passed ✅\n",
            "\u001b[34m\u001b[1moptimizer:\u001b[0m SGD(lr=0.01) with parameter groups 123 weight(decay=0.0), 126 weight(decay=0.0005), 126 bias\n",
            "\u001b[34m\u001b[1malbumentations: \u001b[0mBlur(p=0.01, blur_limit=(3, 7)), MedianBlur(p=0.01, blur_limit=(3, 7)), ToGray(p=0.01), CLAHE(p=0.01, clip_limit=(1, 4.0), tile_grid_size=(8, 8))\n",
            "\u001b[34m\u001b[1mtrain: \u001b[0mScanning '/content/dataset/train' images and labels...72 found, 0 missing, 0 empty, 0 corrupt: 100% 72/72 [00:00<00:00, 3463.19it/s]\n",
            "\u001b[34m\u001b[1mtrain: \u001b[0mNew cache created: /content/dataset/train.cache\n",
            "\u001b[34m\u001b[1mval: \u001b[0mScanning '/content/dataset/val' images and labels...8 found, 0 missing, 0 empty, 0 corrupt: 100% 8/8 [00:00<00:00, 329.06it/s]\n",
            "\u001b[34m\u001b[1mval: \u001b[0mNew cache created: /content/dataset/val.cache\n",
            "\n",
            "\u001b[34m\u001b[1mAutoAnchor: \u001b[0m3.72 anchors/target, 1.000 Best Possible Recall (BPR). Current anchors are a good fit to dataset ✅\n",
            "Plotting labels to runs/train/grain_results/labels.jpg... \n",
            "Image sizes 640 train, 640 val\n",
            "Using 8 dataloader workers\n",
            "Logging results to \u001b[1mruns/train/grain_results\u001b[0m\n",
            "Starting training for 30 epochs...\n",
            "\n",
            "      Epoch    GPU_mem   box_loss   obj_loss   cls_loss  Instances       Size\n",
            "       0/29      7.51G     0.1125     0.2374          0       1312        640: 100% 9/9 [00:08<00:00,  1.02it/s]\n",
            "                 Class     Images  Instances          P          R      mAP50   mAP50-95: 100% 1/1 [00:02<00:00,  2.68s/it]\n",
            "                   all          8        649          0          0          0          0\n",
            "\n",
            "      Epoch    GPU_mem   box_loss   obj_loss   cls_loss  Instances       Size\n",
            "       1/29      7.72G     0.1245     0.2355          0       1334        640: 100% 9/9 [00:02<00:00,  3.93it/s]\n",
            "                 Class     Images  Instances          P          R      mAP50   mAP50-95: 100% 1/1 [00:00<00:00,  1.29it/s]\n",
            "                   all          8        649     0.0392      0.145      0.025    0.00474\n",
            "\n",
            "      Epoch    GPU_mem   box_loss   obj_loss   cls_loss  Instances       Size\n",
            "       2/29      7.72G     0.1172     0.1778          0       1415        640: 100% 9/9 [00:02<00:00,  4.03it/s]\n",
            "                 Class     Images  Instances          P          R      mAP50   mAP50-95: 100% 1/1 [00:00<00:00,  1.39it/s]\n",
            "                   all          8        649     0.0796       0.23      0.051     0.0109\n",
            "\n",
            "      Epoch    GPU_mem   box_loss   obj_loss   cls_loss  Instances       Size\n",
            "       3/29      7.72G     0.1229     0.1709          0       1057        640: 100% 9/9 [00:02<00:00,  3.93it/s]\n",
            "                 Class     Images  Instances          P          R      mAP50   mAP50-95: 100% 1/1 [00:00<00:00,  1.19it/s]\n",
            "                   all          8        649      0.107      0.273     0.0708     0.0162\n",
            "\n",
            "      Epoch    GPU_mem   box_loss   obj_loss   cls_loss  Instances       Size\n",
            "       4/29      7.72G     0.1116      0.162          0       1065        640: 100% 9/9 [00:02<00:00,  4.08it/s]\n",
            "                 Class     Images  Instances          P          R      mAP50   mAP50-95: 100% 1/1 [00:00<00:00,  1.12it/s]\n",
            "                   all          8        649      0.149      0.299      0.116     0.0267\n",
            "\n",
            "      Epoch    GPU_mem   box_loss   obj_loss   cls_loss  Instances       Size\n",
            "       5/29      7.72G     0.1117     0.1781          0        905        640: 100% 9/9 [00:01<00:00,  4.70it/s]\n",
            "                 Class     Images  Instances          P          R      mAP50   mAP50-95: 100% 1/1 [00:00<00:00,  1.63it/s]\n",
            "                   all          8        649      0.226      0.359      0.198     0.0421\n",
            "\n",
            "      Epoch    GPU_mem   box_loss   obj_loss   cls_loss  Instances       Size\n",
            "       6/29      7.72G     0.1124     0.1816          0       1219        640: 100% 9/9 [00:02<00:00,  4.19it/s]\n",
            "                 Class     Images  Instances          P          R      mAP50   mAP50-95: 100% 1/1 [00:00<00:00,  2.19it/s]\n",
            "                   all          8        649      0.252      0.426      0.237     0.0589\n",
            "\n",
            "      Epoch    GPU_mem   box_loss   obj_loss   cls_loss  Instances       Size\n",
            "       7/29      7.72G     0.1048      0.168          0       1178        640: 100% 9/9 [00:02<00:00,  4.10it/s]\n",
            "                 Class     Images  Instances          P          R      mAP50   mAP50-95: 100% 1/1 [00:00<00:00,  4.10it/s]\n",
            "                   all          8        649       0.24      0.327      0.179     0.0371\n",
            "\n",
            "      Epoch    GPU_mem   box_loss   obj_loss   cls_loss  Instances       Size\n",
            "       8/29      7.72G     0.1192     0.1724          0       1185        640: 100% 9/9 [00:02<00:00,  4.34it/s]\n",
            "                 Class     Images  Instances          P          R      mAP50   mAP50-95: 100% 1/1 [00:00<00:00,  2.86it/s]\n",
            "                   all          8        649     0.0642      0.237     0.0403     0.0088\n",
            "\n",
            "      Epoch    GPU_mem   box_loss   obj_loss   cls_loss  Instances       Size\n",
            "       9/29      7.72G     0.1039     0.1736          0       1179        640: 100% 9/9 [00:02<00:00,  3.93it/s]\n",
            "                 Class     Images  Instances          P          R      mAP50   mAP50-95: 100% 1/1 [00:00<00:00,  3.55it/s]\n",
            "                   all          8        649     0.0804      0.257     0.0502     0.0108\n",
            "\n",
            "      Epoch    GPU_mem   box_loss   obj_loss   cls_loss  Instances       Size\n",
            "      10/29      7.72G     0.1134     0.1769          0        905        640: 100% 9/9 [00:02<00:00,  3.30it/s]\n",
            "                 Class     Images  Instances          P          R      mAP50   mAP50-95: 100% 1/1 [00:00<00:00,  4.39it/s]\n",
            "                   all          8        649      0.352      0.525      0.346     0.0841\n",
            "\n",
            "      Epoch    GPU_mem   box_loss   obj_loss   cls_loss  Instances       Size\n",
            "      11/29      7.72G    0.09348     0.1912          0       1229        640: 100% 9/9 [00:02<00:00,  4.43it/s]\n",
            "                 Class     Images  Instances          P          R      mAP50   mAP50-95: 100% 1/1 [00:00<00:00,  3.45it/s]\n",
            "                   all          8        649       0.34      0.535      0.354       0.11\n",
            "\n",
            "      Epoch    GPU_mem   box_loss   obj_loss   cls_loss  Instances       Size\n",
            "      12/29      7.72G      0.101     0.1968          0       1364        640: 100% 9/9 [00:02<00:00,  4.34it/s]\n",
            "                 Class     Images  Instances          P          R      mAP50   mAP50-95: 100% 1/1 [00:00<00:00,  3.69it/s]\n",
            "                   all          8        649      0.207      0.419      0.168     0.0377\n",
            "\n",
            "      Epoch    GPU_mem   box_loss   obj_loss   cls_loss  Instances       Size\n",
            "      13/29      7.72G     0.0989     0.1806          0        807        640: 100% 9/9 [00:02<00:00,  4.04it/s]\n",
            "                 Class     Images  Instances          P          R      mAP50   mAP50-95: 100% 1/1 [00:00<00:00,  2.96it/s]\n",
            "                   all          8        649      0.257      0.532      0.239     0.0752\n",
            "\n",
            "      Epoch    GPU_mem   box_loss   obj_loss   cls_loss  Instances       Size\n",
            "      14/29      7.72G    0.09136     0.1855          0        934        640: 100% 9/9 [00:02<00:00,  3.38it/s]\n",
            "                 Class     Images  Instances          P          R      mAP50   mAP50-95: 100% 1/1 [00:00<00:00,  5.36it/s]\n",
            "                   all          8        649      0.478      0.584      0.535      0.168\n",
            "\n",
            "      Epoch    GPU_mem   box_loss   obj_loss   cls_loss  Instances       Size\n",
            "      15/29      7.72G    0.09333     0.1836          0       1695        640: 100% 9/9 [00:02<00:00,  3.76it/s]\n",
            "                 Class     Images  Instances          P          R      mAP50   mAP50-95: 100% 1/1 [00:00<00:00,  4.09it/s]\n",
            "                   all          8        649      0.331      0.575      0.334      0.111\n",
            "\n",
            "      Epoch    GPU_mem   box_loss   obj_loss   cls_loss  Instances       Size\n",
            "      16/29      7.72G    0.09087     0.1732          0       1056        640: 100% 9/9 [00:02<00:00,  3.92it/s]\n",
            "                 Class     Images  Instances          P          R      mAP50   mAP50-95: 100% 1/1 [00:00<00:00,  5.50it/s]\n",
            "                   all          8        649      0.599       0.61      0.619      0.211\n",
            "\n",
            "      Epoch    GPU_mem   box_loss   obj_loss   cls_loss  Instances       Size\n",
            "      17/29      7.72G     0.1003     0.1824          0        800        640: 100% 9/9 [00:01<00:00,  4.60it/s]\n",
            "                 Class     Images  Instances          P          R      mAP50   mAP50-95: 100% 1/1 [00:00<00:00,  5.75it/s]\n",
            "                   all          8        649      0.552      0.535      0.561      0.193\n",
            "\n",
            "      Epoch    GPU_mem   box_loss   obj_loss   cls_loss  Instances       Size\n",
            "      18/29      7.72G    0.08643     0.1943          0       1197        640: 100% 9/9 [00:02<00:00,  3.25it/s]\n",
            "                 Class     Images  Instances          P          R      mAP50   mAP50-95: 100% 1/1 [00:00<00:00,  5.19it/s]\n",
            "                   all          8        649      0.493      0.581      0.487      0.119\n",
            "\n",
            "      Epoch    GPU_mem   box_loss   obj_loss   cls_loss  Instances       Size\n",
            "      19/29      7.72G    0.09505     0.1955          0       1001        640: 100% 9/9 [00:02<00:00,  3.61it/s]\n",
            "                 Class     Images  Instances          P          R      mAP50   mAP50-95: 100% 1/1 [00:00<00:00,  4.27it/s]\n",
            "                   all          8        649      0.575      0.635        0.6      0.179\n",
            "\n",
            "      Epoch    GPU_mem   box_loss   obj_loss   cls_loss  Instances       Size\n",
            "      20/29      7.72G    0.09252     0.1783          0       1058        640: 100% 9/9 [00:02<00:00,  3.41it/s]\n",
            "                 Class     Images  Instances          P          R      mAP50   mAP50-95: 100% 1/1 [00:00<00:00,  4.77it/s]\n",
            "                   all          8        649      0.312      0.513      0.255     0.0732\n",
            "\n",
            "      Epoch    GPU_mem   box_loss   obj_loss   cls_loss  Instances       Size\n",
            "      21/29      7.72G    0.08953      0.185          0       1048        640: 100% 9/9 [00:02<00:00,  3.70it/s]\n",
            "                 Class     Images  Instances          P          R      mAP50   mAP50-95: 100% 1/1 [00:00<00:00,  5.22it/s]\n",
            "                   all          8        649      0.681      0.683      0.723      0.281\n",
            "\n",
            "      Epoch    GPU_mem   box_loss   obj_loss   cls_loss  Instances       Size\n",
            "      22/29      7.72G    0.08614     0.1744          0        837        640: 100% 9/9 [00:02<00:00,  4.16it/s]\n",
            "                 Class     Images  Instances          P          R      mAP50   mAP50-95: 100% 1/1 [00:00<00:00,  4.27it/s]\n",
            "                   all          8        649      0.702      0.693      0.733      0.285\n",
            "\n",
            "      Epoch    GPU_mem   box_loss   obj_loss   cls_loss  Instances       Size\n",
            "      23/29      7.72G    0.08464     0.1759          0        926        640: 100% 9/9 [00:02<00:00,  4.39it/s]\n",
            "                 Class     Images  Instances          P          R      mAP50   mAP50-95: 100% 1/1 [00:00<00:00,  3.58it/s]\n",
            "                   all          8        649      0.565      0.704      0.625      0.245\n",
            "\n",
            "      Epoch    GPU_mem   box_loss   obj_loss   cls_loss  Instances       Size\n",
            "      24/29      7.72G    0.07576     0.1759          0       1419        640: 100% 9/9 [00:02<00:00,  4.39it/s]\n",
            "                 Class     Images  Instances          P          R      mAP50   mAP50-95: 100% 1/1 [00:00<00:00,  2.82it/s]\n",
            "                   all          8        649      0.674      0.667      0.677      0.249\n",
            "\n",
            "      Epoch    GPU_mem   box_loss   obj_loss   cls_loss  Instances       Size\n",
            "      25/29      7.72G    0.09255     0.1712          0       1297        640: 100% 9/9 [00:03<00:00,  2.88it/s]\n",
            "                 Class     Images  Instances          P          R      mAP50   mAP50-95: 100% 1/1 [00:00<00:00,  5.36it/s]\n",
            "                   all          8        649      0.671      0.669       0.68      0.272\n",
            "\n",
            "      Epoch    GPU_mem   box_loss   obj_loss   cls_loss  Instances       Size\n",
            "      26/29      7.72G    0.09058     0.1675          0        955        640: 100% 9/9 [00:01<00:00,  4.63it/s]\n",
            "                 Class     Images  Instances          P          R      mAP50   mAP50-95: 100% 1/1 [00:00<00:00,  5.14it/s]\n",
            "                   all          8        649      0.685      0.692      0.696      0.254\n",
            "\n",
            "      Epoch    GPU_mem   box_loss   obj_loss   cls_loss  Instances       Size\n",
            "      27/29      7.72G    0.08295     0.1728          0        930        640: 100% 9/9 [00:02<00:00,  3.88it/s]\n",
            "                 Class     Images  Instances          P          R      mAP50   mAP50-95: 100% 1/1 [00:00<00:00,  3.89it/s]\n",
            "                   all          8        649      0.709      0.703      0.727      0.286\n",
            "\n",
            "      Epoch    GPU_mem   box_loss   obj_loss   cls_loss  Instances       Size\n",
            "      28/29      7.72G    0.08242     0.1822          0       1093        640: 100% 9/9 [00:02<00:00,  4.14it/s]\n",
            "                 Class     Images  Instances          P          R      mAP50   mAP50-95: 100% 1/1 [00:00<00:00,  3.20it/s]\n",
            "                   all          8        649      0.702      0.715      0.724       0.27\n",
            "\n",
            "      Epoch    GPU_mem   box_loss   obj_loss   cls_loss  Instances       Size\n",
            "      29/29      7.72G     0.0844     0.1851          0       1353        640: 100% 9/9 [00:02<00:00,  3.50it/s]\n",
            "                 Class     Images  Instances          P          R      mAP50   mAP50-95: 100% 1/1 [00:00<00:00,  4.64it/s]\n",
            "                   all          8        649       0.71      0.712      0.724      0.283\n",
            "\n",
            "30 epochs completed in 0.058 hours.\n",
            "Optimizer stripped from runs/train/grain_results/weights/last.pt, 173.1MB\n",
            "Optimizer stripped from runs/train/grain_results/weights/best.pt, 173.1MB\n",
            "\n",
            "Validating runs/train/grain_results/weights/best.pt...\n",
            "Fusing layers... \n",
            "YOLOv5x summary: 322 layers, 86173414 parameters, 0 gradients, 203.8 GFLOPs\n",
            "                 Class     Images  Instances          P          R      mAP50   mAP50-95: 100% 1/1 [00:00<00:00,  2.95it/s]\n",
            "                   all          8        649      0.709      0.703      0.726      0.286\n",
            "Results saved to \u001b[1mruns/train/grain_results\u001b[0m\n"
          ]
        }
      ]
    },
    {
      "cell_type": "code",
      "metadata": {
        "id": "siFgdbNEkrS2"
      },
      "source": [
        "%load_ext tensorboard\n",
        "%tensorboard --logdir /content/yolov5/runs/"
      ],
      "execution_count": null,
      "outputs": []
    },
    {
      "cell_type": "code",
      "metadata": {
        "id": "ccBbm2xy0ZGV"
      },
      "source": [
        "!python detect.py --weights ./runs/train/grain_results4/weights/best.pt --img 640 --conf 0.5 --source '/content/dataset/test1.jpg' "
      ],
      "execution_count": null,
      "outputs": []
    },
    {
      "cell_type": "code",
      "metadata": {
        "id": "5SAa-6GcdExq"
      },
      "source": [
        "!python detect.py --weights ./runs/train/grain_results4/weights/best.pt --img 640 --conf 0.5 --source '/content/dataset/test2.jpg'"
      ],
      "execution_count": null,
      "outputs": []
    },
    {
      "cell_type": "code",
      "metadata": {
        "id": "DPzgFRmcdE5h"
      },
      "source": [
        "!python detect.py --weights ./runs/train/grain_results4/weights/best.pt --img 640 --conf 0.5 --source '/content/dataset/test3.jpg'"
      ],
      "execution_count": null,
      "outputs": []
    },
    {
      "cell_type": "code",
      "metadata": {
        "id": "ceSkBfGTdE_z"
      },
      "source": [
        "!python detect.py --weights ./runs/train/grain_results4/weights/best.pt --img 640 --conf 0.5 --source '/content/dataset/test4.jpg'"
      ],
      "execution_count": null,
      "outputs": []
    }
  ]
}